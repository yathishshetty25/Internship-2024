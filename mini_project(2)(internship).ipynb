{
 "cells": [
  {
   "cell_type": "code",
   "execution_count": 2,
   "id": "b821cee3",
   "metadata": {},
   "outputs": [],
   "source": [
    "import pandas as pd"
   ]
  },
  {
   "cell_type": "code",
   "execution_count": 3,
   "id": "13389b4e",
   "metadata": {},
   "outputs": [],
   "source": [
    "df=pd.read_csv(r\"C:\\Users\\Lenovo\\OneDrive\\Documents\\Salary Data.csv\")"
   ]
  },
  {
   "cell_type": "code",
   "execution_count": 4,
   "id": "67cb03ff",
   "metadata": {},
   "outputs": [
    {
     "data": {
      "text/html": [
       "<div>\n",
       "<style scoped>\n",
       "    .dataframe tbody tr th:only-of-type {\n",
       "        vertical-align: middle;\n",
       "    }\n",
       "\n",
       "    .dataframe tbody tr th {\n",
       "        vertical-align: top;\n",
       "    }\n",
       "\n",
       "    .dataframe thead th {\n",
       "        text-align: right;\n",
       "    }\n",
       "</style>\n",
       "<table border=\"1\" class=\"dataframe\">\n",
       "  <thead>\n",
       "    <tr style=\"text-align: right;\">\n",
       "      <th></th>\n",
       "      <th>Age</th>\n",
       "      <th>Gender</th>\n",
       "      <th>Education Level</th>\n",
       "      <th>Job Title</th>\n",
       "      <th>Years of Experience</th>\n",
       "      <th>Salary</th>\n",
       "    </tr>\n",
       "  </thead>\n",
       "  <tbody>\n",
       "    <tr>\n",
       "      <th>0</th>\n",
       "      <td>32.0</td>\n",
       "      <td>Male</td>\n",
       "      <td>Bachelor's</td>\n",
       "      <td>Software Engineer</td>\n",
       "      <td>5.0</td>\n",
       "      <td>90000.0</td>\n",
       "    </tr>\n",
       "    <tr>\n",
       "      <th>1</th>\n",
       "      <td>28.0</td>\n",
       "      <td>Female</td>\n",
       "      <td>Master's</td>\n",
       "      <td>Data Analyst</td>\n",
       "      <td>3.0</td>\n",
       "      <td>65000.0</td>\n",
       "    </tr>\n",
       "    <tr>\n",
       "      <th>2</th>\n",
       "      <td>45.0</td>\n",
       "      <td>Male</td>\n",
       "      <td>PhD</td>\n",
       "      <td>Senior Manager</td>\n",
       "      <td>15.0</td>\n",
       "      <td>150000.0</td>\n",
       "    </tr>\n",
       "    <tr>\n",
       "      <th>3</th>\n",
       "      <td>36.0</td>\n",
       "      <td>Female</td>\n",
       "      <td>Bachelor's</td>\n",
       "      <td>Sales Associate</td>\n",
       "      <td>7.0</td>\n",
       "      <td>60000.0</td>\n",
       "    </tr>\n",
       "    <tr>\n",
       "      <th>4</th>\n",
       "      <td>52.0</td>\n",
       "      <td>Male</td>\n",
       "      <td>Master's</td>\n",
       "      <td>Director</td>\n",
       "      <td>20.0</td>\n",
       "      <td>200000.0</td>\n",
       "    </tr>\n",
       "  </tbody>\n",
       "</table>\n",
       "</div>"
      ],
      "text/plain": [
       "    Age  Gender Education Level          Job Title  Years of Experience  \\\n",
       "0  32.0    Male      Bachelor's  Software Engineer                  5.0   \n",
       "1  28.0  Female        Master's       Data Analyst                  3.0   \n",
       "2  45.0    Male             PhD     Senior Manager                 15.0   \n",
       "3  36.0  Female      Bachelor's    Sales Associate                  7.0   \n",
       "4  52.0    Male        Master's           Director                 20.0   \n",
       "\n",
       "     Salary  \n",
       "0   90000.0  \n",
       "1   65000.0  \n",
       "2  150000.0  \n",
       "3   60000.0  \n",
       "4  200000.0  "
      ]
     },
     "execution_count": 4,
     "metadata": {},
     "output_type": "execute_result"
    }
   ],
   "source": [
    "df.head()"
   ]
  },
  {
   "cell_type": "code",
   "execution_count": 5,
   "id": "6e235018",
   "metadata": {},
   "outputs": [
    {
     "data": {
      "text/html": [
       "<div>\n",
       "<style scoped>\n",
       "    .dataframe tbody tr th:only-of-type {\n",
       "        vertical-align: middle;\n",
       "    }\n",
       "\n",
       "    .dataframe tbody tr th {\n",
       "        vertical-align: top;\n",
       "    }\n",
       "\n",
       "    .dataframe thead th {\n",
       "        text-align: right;\n",
       "    }\n",
       "</style>\n",
       "<table border=\"1\" class=\"dataframe\">\n",
       "  <thead>\n",
       "    <tr style=\"text-align: right;\">\n",
       "      <th></th>\n",
       "      <th>Age</th>\n",
       "      <th>Gender</th>\n",
       "      <th>Education Level</th>\n",
       "      <th>Job Title</th>\n",
       "      <th>Years of Experience</th>\n",
       "      <th>Salary</th>\n",
       "    </tr>\n",
       "  </thead>\n",
       "  <tbody>\n",
       "    <tr>\n",
       "      <th>370</th>\n",
       "      <td>35.0</td>\n",
       "      <td>Female</td>\n",
       "      <td>Bachelor's</td>\n",
       "      <td>Senior Marketing Analyst</td>\n",
       "      <td>8.0</td>\n",
       "      <td>85000.0</td>\n",
       "    </tr>\n",
       "    <tr>\n",
       "      <th>371</th>\n",
       "      <td>43.0</td>\n",
       "      <td>Male</td>\n",
       "      <td>Master's</td>\n",
       "      <td>Director of Operations</td>\n",
       "      <td>19.0</td>\n",
       "      <td>170000.0</td>\n",
       "    </tr>\n",
       "    <tr>\n",
       "      <th>372</th>\n",
       "      <td>29.0</td>\n",
       "      <td>Female</td>\n",
       "      <td>Bachelor's</td>\n",
       "      <td>Junior Project Manager</td>\n",
       "      <td>2.0</td>\n",
       "      <td>40000.0</td>\n",
       "    </tr>\n",
       "    <tr>\n",
       "      <th>373</th>\n",
       "      <td>34.0</td>\n",
       "      <td>Male</td>\n",
       "      <td>Bachelor's</td>\n",
       "      <td>Senior Operations Coordinator</td>\n",
       "      <td>7.0</td>\n",
       "      <td>90000.0</td>\n",
       "    </tr>\n",
       "    <tr>\n",
       "      <th>374</th>\n",
       "      <td>44.0</td>\n",
       "      <td>Female</td>\n",
       "      <td>PhD</td>\n",
       "      <td>Senior Business Analyst</td>\n",
       "      <td>15.0</td>\n",
       "      <td>150000.0</td>\n",
       "    </tr>\n",
       "  </tbody>\n",
       "</table>\n",
       "</div>"
      ],
      "text/plain": [
       "      Age  Gender Education Level                      Job Title  \\\n",
       "370  35.0  Female      Bachelor's       Senior Marketing Analyst   \n",
       "371  43.0    Male        Master's         Director of Operations   \n",
       "372  29.0  Female      Bachelor's         Junior Project Manager   \n",
       "373  34.0    Male      Bachelor's  Senior Operations Coordinator   \n",
       "374  44.0  Female             PhD        Senior Business Analyst   \n",
       "\n",
       "     Years of Experience    Salary  \n",
       "370                  8.0   85000.0  \n",
       "371                 19.0  170000.0  \n",
       "372                  2.0   40000.0  \n",
       "373                  7.0   90000.0  \n",
       "374                 15.0  150000.0  "
      ]
     },
     "execution_count": 5,
     "metadata": {},
     "output_type": "execute_result"
    }
   ],
   "source": [
    "df.tail()"
   ]
  },
  {
   "cell_type": "code",
   "execution_count": 6,
   "id": "0f5de43d",
   "metadata": {},
   "outputs": [
    {
     "data": {
      "text/html": [
       "<div>\n",
       "<style scoped>\n",
       "    .dataframe tbody tr th:only-of-type {\n",
       "        vertical-align: middle;\n",
       "    }\n",
       "\n",
       "    .dataframe tbody tr th {\n",
       "        vertical-align: top;\n",
       "    }\n",
       "\n",
       "    .dataframe thead th {\n",
       "        text-align: right;\n",
       "    }\n",
       "</style>\n",
       "<table border=\"1\" class=\"dataframe\">\n",
       "  <thead>\n",
       "    <tr style=\"text-align: right;\">\n",
       "      <th></th>\n",
       "      <th>Age</th>\n",
       "      <th>Gender</th>\n",
       "      <th>Education Level</th>\n",
       "      <th>Job Title</th>\n",
       "      <th>Years of Experience</th>\n",
       "      <th>Salary</th>\n",
       "    </tr>\n",
       "  </thead>\n",
       "  <tbody>\n",
       "    <tr>\n",
       "      <th>289</th>\n",
       "      <td>32.0</td>\n",
       "      <td>Male</td>\n",
       "      <td>Bachelor's</td>\n",
       "      <td>Junior Product Manager</td>\n",
       "      <td>4.0</td>\n",
       "      <td>65000.0</td>\n",
       "    </tr>\n",
       "  </tbody>\n",
       "</table>\n",
       "</div>"
      ],
      "text/plain": [
       "      Age Gender Education Level               Job Title  Years of Experience  \\\n",
       "289  32.0   Male      Bachelor's  Junior Product Manager                  4.0   \n",
       "\n",
       "      Salary  \n",
       "289  65000.0  "
      ]
     },
     "execution_count": 6,
     "metadata": {},
     "output_type": "execute_result"
    }
   ],
   "source": [
    "df.sample()"
   ]
  },
  {
   "cell_type": "code",
   "execution_count": 7,
   "id": "55d6db03",
   "metadata": {},
   "outputs": [
    {
     "name": "stdout",
     "output_type": "stream",
     "text": [
      "<class 'pandas.core.frame.DataFrame'>\n",
      "RangeIndex: 375 entries, 0 to 374\n",
      "Data columns (total 6 columns):\n",
      " #   Column               Non-Null Count  Dtype  \n",
      "---  ------               --------------  -----  \n",
      " 0   Age                  373 non-null    float64\n",
      " 1   Gender               373 non-null    object \n",
      " 2   Education Level      373 non-null    object \n",
      " 3   Job Title            373 non-null    object \n",
      " 4   Years of Experience  373 non-null    float64\n",
      " 5   Salary               373 non-null    float64\n",
      "dtypes: float64(3), object(3)\n",
      "memory usage: 17.7+ KB\n"
     ]
    }
   ],
   "source": [
    "df.info()"
   ]
  },
  {
   "cell_type": "code",
   "execution_count": 8,
   "id": "6dde2fc8",
   "metadata": {},
   "outputs": [
    {
     "data": {
      "text/html": [
       "<div>\n",
       "<style scoped>\n",
       "    .dataframe tbody tr th:only-of-type {\n",
       "        vertical-align: middle;\n",
       "    }\n",
       "\n",
       "    .dataframe tbody tr th {\n",
       "        vertical-align: top;\n",
       "    }\n",
       "\n",
       "    .dataframe thead th {\n",
       "        text-align: right;\n",
       "    }\n",
       "</style>\n",
       "<table border=\"1\" class=\"dataframe\">\n",
       "  <thead>\n",
       "    <tr style=\"text-align: right;\">\n",
       "      <th></th>\n",
       "      <th>Age</th>\n",
       "      <th>Years of Experience</th>\n",
       "      <th>Salary</th>\n",
       "    </tr>\n",
       "  </thead>\n",
       "  <tbody>\n",
       "    <tr>\n",
       "      <th>count</th>\n",
       "      <td>373.000000</td>\n",
       "      <td>373.000000</td>\n",
       "      <td>373.000000</td>\n",
       "    </tr>\n",
       "    <tr>\n",
       "      <th>mean</th>\n",
       "      <td>37.431635</td>\n",
       "      <td>10.030831</td>\n",
       "      <td>100577.345845</td>\n",
       "    </tr>\n",
       "    <tr>\n",
       "      <th>std</th>\n",
       "      <td>7.069073</td>\n",
       "      <td>6.557007</td>\n",
       "      <td>48240.013482</td>\n",
       "    </tr>\n",
       "    <tr>\n",
       "      <th>min</th>\n",
       "      <td>23.000000</td>\n",
       "      <td>0.000000</td>\n",
       "      <td>350.000000</td>\n",
       "    </tr>\n",
       "    <tr>\n",
       "      <th>25%</th>\n",
       "      <td>31.000000</td>\n",
       "      <td>4.000000</td>\n",
       "      <td>55000.000000</td>\n",
       "    </tr>\n",
       "    <tr>\n",
       "      <th>50%</th>\n",
       "      <td>36.000000</td>\n",
       "      <td>9.000000</td>\n",
       "      <td>95000.000000</td>\n",
       "    </tr>\n",
       "    <tr>\n",
       "      <th>75%</th>\n",
       "      <td>44.000000</td>\n",
       "      <td>15.000000</td>\n",
       "      <td>140000.000000</td>\n",
       "    </tr>\n",
       "    <tr>\n",
       "      <th>max</th>\n",
       "      <td>53.000000</td>\n",
       "      <td>25.000000</td>\n",
       "      <td>250000.000000</td>\n",
       "    </tr>\n",
       "  </tbody>\n",
       "</table>\n",
       "</div>"
      ],
      "text/plain": [
       "              Age  Years of Experience         Salary\n",
       "count  373.000000           373.000000     373.000000\n",
       "mean    37.431635            10.030831  100577.345845\n",
       "std      7.069073             6.557007   48240.013482\n",
       "min     23.000000             0.000000     350.000000\n",
       "25%     31.000000             4.000000   55000.000000\n",
       "50%     36.000000             9.000000   95000.000000\n",
       "75%     44.000000            15.000000  140000.000000\n",
       "max     53.000000            25.000000  250000.000000"
      ]
     },
     "execution_count": 8,
     "metadata": {},
     "output_type": "execute_result"
    }
   ],
   "source": [
    "df.describe()"
   ]
  },
  {
   "cell_type": "code",
   "execution_count": 9,
   "id": "efc41366",
   "metadata": {},
   "outputs": [
    {
     "data": {
      "text/plain": [
       "Index(['Age', 'Gender', 'Education Level', 'Job Title', 'Years of Experience',\n",
       "       'Salary'],\n",
       "      dtype='object')"
      ]
     },
     "execution_count": 9,
     "metadata": {},
     "output_type": "execute_result"
    }
   ],
   "source": [
    "df.columns"
   ]
  },
  {
   "cell_type": "code",
   "execution_count": 10,
   "id": "aa64e99f",
   "metadata": {},
   "outputs": [
    {
     "data": {
      "text/plain": [
       "(375, 6)"
      ]
     },
     "execution_count": 10,
     "metadata": {},
     "output_type": "execute_result"
    }
   ],
   "source": [
    "df.shape"
   ]
  },
  {
   "cell_type": "code",
   "execution_count": 11,
   "id": "a5f0390f",
   "metadata": {},
   "outputs": [
    {
     "data": {
      "text/plain": [
       "Age                    float64\n",
       "Gender                  object\n",
       "Education Level         object\n",
       "Job Title               object\n",
       "Years of Experience    float64\n",
       "Salary                 float64\n",
       "dtype: object"
      ]
     },
     "execution_count": 11,
     "metadata": {},
     "output_type": "execute_result"
    }
   ],
   "source": [
    "df.dtypes"
   ]
  },
  {
   "cell_type": "code",
   "execution_count": 12,
   "id": "b12f3931",
   "metadata": {},
   "outputs": [
    {
     "data": {
      "text/plain": [
       "Age                    2\n",
       "Gender                 2\n",
       "Education Level        2\n",
       "Job Title              2\n",
       "Years of Experience    2\n",
       "Salary                 2\n",
       "dtype: int64"
      ]
     },
     "execution_count": 12,
     "metadata": {},
     "output_type": "execute_result"
    }
   ],
   "source": [
    "df.isna().sum()"
   ]
  },
  {
   "cell_type": "code",
   "execution_count": 13,
   "id": "37f0fefc",
   "metadata": {},
   "outputs": [],
   "source": [
    "df.fillna(method='ffill',inplace=True)"
   ]
  },
  {
   "cell_type": "code",
   "execution_count": 14,
   "id": "940eebe5",
   "metadata": {},
   "outputs": [
    {
     "data": {
      "text/plain": [
       "Age                    0\n",
       "Gender                 0\n",
       "Education Level        0\n",
       "Job Title              0\n",
       "Years of Experience    0\n",
       "Salary                 0\n",
       "dtype: int64"
      ]
     },
     "execution_count": 14,
     "metadata": {},
     "output_type": "execute_result"
    }
   ],
   "source": [
    "df.isna().sum()"
   ]
  },
  {
   "cell_type": "code",
   "execution_count": 15,
   "id": "d1efcd50",
   "metadata": {},
   "outputs": [
    {
     "data": {
      "text/plain": [
       "29.0    25\n",
       "33.0    24\n",
       "35.0    22\n",
       "31.0    21\n",
       "44.0    21\n",
       "36.0    20\n",
       "34.0    17\n",
       "45.0    17\n",
       "38.0    15\n",
       "30.0    15\n",
       "47.0    15\n",
       "40.0    13\n",
       "28.0    13\n",
       "43.0    12\n",
       "37.0    12\n",
       "41.0    12\n",
       "32.0    12\n",
       "39.0    12\n",
       "42.0    11\n",
       "46.0    10\n",
       "27.0     9\n",
       "48.0     9\n",
       "50.0     8\n",
       "49.0     8\n",
       "26.0     7\n",
       "51.0     5\n",
       "25.0     4\n",
       "52.0     3\n",
       "24.0     1\n",
       "23.0     1\n",
       "53.0     1\n",
       "Name: Age, dtype: int64"
      ]
     },
     "execution_count": 15,
     "metadata": {},
     "output_type": "execute_result"
    }
   ],
   "source": [
    "df['Age'].value_counts()"
   ]
  },
  {
   "cell_type": "code",
   "execution_count": 16,
   "id": "32c4b317",
   "metadata": {},
   "outputs": [
    {
     "data": {
      "text/plain": [
       "array([32., 28., 45., 36., 52., 29., 42., 31., 26., 38., 48., 35., 40.,\n",
       "       27., 44., 33., 39., 25., 51., 34., 47., 30., 41., 37., 24., 43.,\n",
       "       50., 46., 49., 23., 53.])"
      ]
     },
     "execution_count": 16,
     "metadata": {},
     "output_type": "execute_result"
    }
   ],
   "source": [
    "df['Age'].unique()"
   ]
  },
  {
   "cell_type": "code",
   "execution_count": 17,
   "id": "662b5cf0",
   "metadata": {},
   "outputs": [
    {
     "name": "stdout",
     "output_type": "stream",
     "text": [
      "Male      196\n",
      "Female    179\n",
      "Name: Gender, dtype: int64\n"
     ]
    },
    {
     "data": {
      "text/plain": [
       "array(['Male', 'Female'], dtype=object)"
      ]
     },
     "execution_count": 17,
     "metadata": {},
     "output_type": "execute_result"
    }
   ],
   "source": [
    "print(df['Gender'].value_counts())\n",
    "df['Gender'].unique()"
   ]
  },
  {
   "cell_type": "code",
   "execution_count": 18,
   "id": "d034aec2",
   "metadata": {},
   "outputs": [
    {
     "name": "stdout",
     "output_type": "stream",
     "text": [
      "Bachelor's    226\n",
      "Master's       98\n",
      "PhD            51\n",
      "Name: Education Level, dtype: int64\n"
     ]
    },
    {
     "data": {
      "text/plain": [
       "array([\"Bachelor's\", \"Master's\", 'PhD'], dtype=object)"
      ]
     },
     "execution_count": 18,
     "metadata": {},
     "output_type": "execute_result"
    }
   ],
   "source": [
    "print(df['Education Level'].value_counts())\n",
    "df['Education Level'].unique()"
   ]
  },
  {
   "cell_type": "code",
   "execution_count": 19,
   "id": "e346e116",
   "metadata": {},
   "outputs": [
    {
     "data": {
      "image/png": "[encoded data removed]",
      "text/plain": [
       "<Figure size 640x480 with 1 Axes>"
      ]
     },
     "metadata": {},
     "output_type": "display_data"
    }
   ],
   "source": [
    "import matplotlib.pyplot as plt\n",
    "s=df['Education Level'].value_counts()\n",
    "x=s.index\n",
    "y=s.values\n",
    "plt.bar(x,y,color='green')\n",
    "plt.title(\"Education Level V/S No. of people\",fontdict={'name':'algerian',\"size\":15,'color':'g'})\n",
    "plt.xlabel(\"Education Level\",fontdict={'name':'algerian',\"size\":10,'color':'r'})\n",
    "plt.ylabel(\"No. of people\",fontdict={'name':'algerian',\"size\":10,'color':'r'})\n",
    "plt.show()"
   ]
  },
  {
   "cell_type": "code",
   "execution_count": 20,
   "id": "2b5dc322",
   "metadata": {},
   "outputs": [
    {
     "name": "stdout",
     "output_type": "stream",
     "text": [
      "Director of Marketing              12\n",
      "Director of Operations             11\n",
      "Senior Business Analyst            10\n",
      "Senior Marketing Analyst            9\n",
      "Senior Marketing Manager            9\n",
      "                                   ..\n",
      "Business Development Manager        1\n",
      "Customer Service Representative     1\n",
      "IT Manager                          1\n",
      "Digital Marketing Manager           1\n",
      "Junior Web Developer                1\n",
      "Name: Job Title, Length: 174, dtype: int64\n"
     ]
    },
    {
     "data": {
      "text/plain": [
       "array(['Software Engineer', 'Data Analyst', 'Senior Manager',\n",
       "       'Sales Associate', 'Director', 'Marketing Analyst',\n",
       "       'Product Manager', 'Sales Manager', 'Marketing Coordinator',\n",
       "       'Senior Scientist', 'Software Developer', 'HR Manager',\n",
       "       'Financial Analyst', 'Project Manager', 'Customer Service Rep',\n",
       "       'Operations Manager', 'Marketing Manager', 'Senior Engineer',\n",
       "       'Data Entry Clerk', 'Sales Director', 'Business Analyst',\n",
       "       'VP of Operations', 'IT Support', 'Recruiter', 'Financial Manager',\n",
       "       'Social Media Specialist', 'Software Manager', 'Junior Developer',\n",
       "       'Senior Consultant', 'Product Designer', 'CEO', 'Accountant',\n",
       "       'Data Scientist', 'Marketing Specialist', 'Technical Writer',\n",
       "       'HR Generalist', 'Project Engineer', 'Customer Success Rep',\n",
       "       'Sales Executive', 'UX Designer', 'Operations Director',\n",
       "       'Network Engineer', 'Administrative Assistant',\n",
       "       'Strategy Consultant', 'Copywriter', 'Account Manager',\n",
       "       'Director of Marketing', 'Help Desk Analyst',\n",
       "       'Customer Service Manager', 'Business Intelligence Analyst',\n",
       "       'Event Coordinator', 'VP of Finance', 'Graphic Designer',\n",
       "       'UX Researcher', 'Social Media Manager', 'Director of Operations',\n",
       "       'Senior Data Scientist', 'Junior Accountant',\n",
       "       'Digital Marketing Manager', 'IT Manager',\n",
       "       'Customer Service Representative', 'Business Development Manager',\n",
       "       'Senior Financial Analyst', 'Web Developer', 'Research Director',\n",
       "       'Technical Support Specialist', 'Creative Director',\n",
       "       'Senior Software Engineer', 'Human Resources Director',\n",
       "       'Content Marketing Manager', 'Technical Recruiter',\n",
       "       'Sales Representative', 'Chief Technology Officer',\n",
       "       'Junior Designer', 'Financial Advisor', 'Junior Account Manager',\n",
       "       'Senior Project Manager', 'Principal Scientist',\n",
       "       'Supply Chain Manager', 'Senior Marketing Manager',\n",
       "       'Training Specialist', 'Research Scientist',\n",
       "       'Junior Software Developer', 'Public Relations Manager',\n",
       "       'Operations Analyst', 'Product Marketing Manager',\n",
       "       'Senior HR Manager', 'Junior Web Developer',\n",
       "       'Senior Project Coordinator', 'Chief Data Officer',\n",
       "       'Digital Content Producer', 'IT Support Specialist',\n",
       "       'Senior Marketing Analyst', 'Customer Success Manager',\n",
       "       'Senior Graphic Designer', 'Software Project Manager',\n",
       "       'Supply Chain Analyst', 'Senior Business Analyst',\n",
       "       'Junior Marketing Analyst', 'Office Manager', 'Principal Engineer',\n",
       "       'Junior HR Generalist', 'Senior Product Manager',\n",
       "       'Junior Operations Analyst', 'Senior HR Generalist',\n",
       "       'Sales Operations Manager', 'Senior Software Developer',\n",
       "       'Junior Web Designer', 'Senior Training Specialist',\n",
       "       'Senior Research Scientist', 'Junior Sales Representative',\n",
       "       'Junior Marketing Manager', 'Junior Data Analyst',\n",
       "       'Senior Product Marketing Manager', 'Junior Business Analyst',\n",
       "       'Senior Sales Manager', 'Junior Marketing Specialist',\n",
       "       'Junior Project Manager', 'Senior Accountant', 'Director of Sales',\n",
       "       'Junior Recruiter', 'Senior Business Development Manager',\n",
       "       'Senior Product Designer', 'Junior Customer Support Specialist',\n",
       "       'Senior IT Support Specialist', 'Junior Financial Analyst',\n",
       "       'Senior Operations Manager', 'Director of Human Resources',\n",
       "       'Junior Software Engineer', 'Senior Sales Representative',\n",
       "       'Director of Product Management', 'Junior Copywriter',\n",
       "       'Senior Marketing Coordinator', 'Senior Human Resources Manager',\n",
       "       'Junior Business Development Associate', 'Senior Account Manager',\n",
       "       'Senior Researcher', 'Junior HR Coordinator',\n",
       "       'Director of Finance', 'Junior Marketing Coordinator',\n",
       "       'Junior Data Scientist', 'Senior Operations Analyst',\n",
       "       'Senior Human Resources Coordinator', 'Senior UX Designer',\n",
       "       'Junior Product Manager', 'Senior Marketing Specialist',\n",
       "       'Senior IT Project Manager', 'Senior Quality Assurance Analyst',\n",
       "       'Director of Sales and Marketing', 'Senior Account Executive',\n",
       "       'Director of Business Development', 'Junior Social Media Manager',\n",
       "       'Senior Human Resources Specialist', 'Senior Data Analyst',\n",
       "       'Director of Human Capital', 'Junior Advertising Coordinator',\n",
       "       'Junior UX Designer', 'Senior Marketing Director',\n",
       "       'Senior IT Consultant', 'Senior Financial Advisor',\n",
       "       'Junior Business Operations Analyst',\n",
       "       'Junior Social Media Specialist',\n",
       "       'Senior Product Development Manager', 'Junior Operations Manager',\n",
       "       'Senior Software Architect', 'Junior Research Scientist',\n",
       "       'Senior Financial Manager', 'Senior HR Specialist',\n",
       "       'Senior Data Engineer', 'Junior Operations Coordinator',\n",
       "       'Director of HR', 'Senior Operations Coordinator',\n",
       "       'Junior Financial Advisor', 'Director of Engineering'],\n",
       "      dtype=object)"
      ]
     },
     "execution_count": 20,
     "metadata": {},
     "output_type": "execute_result"
    }
   ],
   "source": [
    "print(df['Job Title'].value_counts())\n",
    "df['Job Title'].unique()"
   ]
  },
  {
   "cell_type": "code",
   "execution_count": 21,
   "id": "8206a0ca",
   "metadata": {},
   "outputs": [
    {
     "name": "stdout",
     "output_type": "stream",
     "text": [
      "2.0     32\n",
      "3.0     30\n",
      "8.0     25\n",
      "9.0     22\n",
      "4.0     20\n",
      "16.0    18\n",
      "7.0     18\n",
      "10.0    18\n",
      "5.0     17\n",
      "15.0    16\n",
      "12.0    15\n",
      "19.0    15\n",
      "21.0    13\n",
      "1.5     13\n",
      "14.0    13\n",
      "18.0    13\n",
      "20.0    13\n",
      "6.0     12\n",
      "13.0    11\n",
      "11.0    10\n",
      "22.0     9\n",
      "1.0      7\n",
      "17.0     5\n",
      "25.0     3\n",
      "0.0      3\n",
      "23.0     2\n",
      "24.0     1\n",
      "0.5      1\n",
      "Name: Years of Experience, dtype: int64\n"
     ]
    },
    {
     "data": {
      "text/plain": [
       "array([ 5. ,  3. , 15. ,  7. , 20. ,  2. , 12. ,  4. ,  1. , 10. , 18. ,\n",
       "        6. , 14. , 16. ,  0. , 22. , 19. ,  9. , 13. , 11. , 25. , 21. ,\n",
       "        8. , 17. , 23. , 24. ,  0.5,  1.5])"
      ]
     },
     "execution_count": 21,
     "metadata": {},
     "output_type": "execute_result"
    }
   ],
   "source": [
    "print(df['Years of Experience'].value_counts())\n",
    "df['Years of Experience'].unique()"
   ]
  },
  {
   "cell_type": "code",
   "execution_count": 22,
   "id": "72659f17",
   "metadata": {},
   "outputs": [
    {
     "name": "stdout",
     "output_type": "stream",
     "text": [
      "40000.0     32\n",
      "50000.0     22\n",
      "95000.0     22\n",
      "180000.0    20\n",
      "120000.0    20\n",
      "90000.0     18\n",
      "150000.0    18\n",
      "45000.0     18\n",
      "160000.0    17\n",
      "60000.0     17\n",
      "110000.0    17\n",
      "170000.0    16\n",
      "130000.0    14\n",
      "100000.0    14\n",
      "140000.0    14\n",
      "35000.0     13\n",
      "80000.0     12\n",
      "55000.0     10\n",
      "85000.0     10\n",
      "70000.0      9\n",
      "65000.0      9\n",
      "105000.0     6\n",
      "190000.0     4\n",
      "75000.0      4\n",
      "115000.0     3\n",
      "250000.0     2\n",
      "200000.0     2\n",
      "135000.0     2\n",
      "175000.0     2\n",
      "350.0        2\n",
      "125000.0     1\n",
      "30000.0      1\n",
      "220000.0     1\n",
      "185000.0     1\n",
      "145000.0     1\n",
      "155000.0     1\n",
      "Name: Salary, dtype: int64\n"
     ]
    },
    {
     "data": {
      "text/plain": [
       "array([ 90000.,  65000., 150000.,  60000., 200000.,  55000., 120000.,\n",
       "        80000.,  45000., 110000.,  75000., 140000., 130000.,  40000.,\n",
       "       125000., 115000.,  35000., 180000., 190000.,  50000., 250000.,\n",
       "       170000., 160000.,  85000.,  95000., 105000.,  70000., 100000.,\n",
       "        30000., 135000., 220000., 175000., 185000., 145000., 155000.,\n",
       "          350.])"
      ]
     },
     "execution_count": 22,
     "metadata": {},
     "output_type": "execute_result"
    }
   ],
   "source": [
    "print(df['Salary'].value_counts())\n",
    "df['Salary'].unique()"
   ]
  },
  {
   "cell_type": "code",
   "execution_count": 23,
   "id": "8b64655b",
   "metadata": {},
   "outputs": [
    {
     "data": {
      "image/png": "[encoded data removed]",
      "text/plain": [
       "<Figure size 640x480 with 1 Axes>"
      ]
     },
     "metadata": {},
     "output_type": "display_data"
    }
   ],
   "source": [
    "import matplotlib.pyplot as plt\n",
    "plt.hist(df['Age'],color='red')\n",
    "plt.title(\"Age\",fontdict={'name':'algerian',\"size\":15,'color':'g'})\n",
    "plt.xlabel(\"Age\",fontdict={'name':'algerian',\"size\":10,'color':'r'})\n",
    "plt.ylabel(\"No. of people\",fontdict={'name':'algerian',\"size\":10,'color':'r'})\n",
    "plt.show()"
   ]
  },
  {
   "cell_type": "code",
   "execution_count": 24,
   "id": "61bf34a7",
   "metadata": {},
   "outputs": [
    {
     "data": {
      "image/png": "[encoded data removed]",
      "text/plain": [
       "<Figure size 640x480 with 1 Axes>"
      ]
     },
     "metadata": {},
     "output_type": "display_data"
    }
   ],
   "source": [
    "plt.scatter(df['Age'],df['Years of Experience'])\n",
    "plt.title(\"Age V/S Years of Experience\",fontdict={'name':'algerian',\"size\":15,'color':'g'})\n",
    "plt.xlabel(\"Age\",fontdict={'name':'algerian',\"size\":10,'color':'r'})\n",
    "plt.ylabel(\"Years of Experience\",fontdict={'name':'algerian',\"size\":10,'color':'r'})\n",
    "plt.show()"
   ]
  },
  {
   "cell_type": "code",
   "execution_count": 25,
   "id": "1693a3bd",
   "metadata": {},
   "outputs": [],
   "source": [
    "df.drop(['Age','Gender'],axis=1,inplace=True)"
   ]
  },
  {
   "cell_type": "code",
   "execution_count": 26,
   "id": "a5db177d",
   "metadata": {},
   "outputs": [
    {
     "name": "stdout",
     "output_type": "stream",
     "text": [
      "<class 'pandas.core.frame.DataFrame'>\n",
      "RangeIndex: 375 entries, 0 to 374\n",
      "Data columns (total 4 columns):\n",
      " #   Column               Non-Null Count  Dtype  \n",
      "---  ------               --------------  -----  \n",
      " 0   Education Level      375 non-null    object \n",
      " 1   Job Title            375 non-null    object \n",
      " 2   Years of Experience  375 non-null    float64\n",
      " 3   Salary               375 non-null    float64\n",
      "dtypes: float64(2), object(2)\n",
      "memory usage: 11.8+ KB\n"
     ]
    }
   ],
   "source": [
    "df.info()"
   ]
  },
  {
   "cell_type": "code",
   "execution_count": 27,
   "id": "59abeb5d",
   "metadata": {},
   "outputs": [
    {
     "name": "stdout",
     "output_type": "stream",
     "text": [
      "Education Level  Job Title                    Years of Experience  Salary  \n",
      "Bachelor's       CEO                          25.0                 250000.0    1\n",
      "Master's         Director of Marketing        25.0                 180000.0    1\n",
      "                 Director of Operations       23.0                 170000.0    1\n",
      "                 Senior Marketing Manager     25.0                 170000.0    1\n",
      "PhD              Chief Technology Officer     24.0                 250000.0    1\n",
      "                 Director of Human Resources  23.0                 185000.0    1\n",
      "dtype: int64\n"
     ]
    },
    {
     "data": {
      "image/png": "[encoded data removed]",
      "text/plain": [
       "<Figure size 640x480 with 1 Axes>"
      ]
     },
     "metadata": {},
     "output_type": "display_data"
    }
   ],
   "source": [
    "a=df[df['Years of Experience']>22.0].value_counts()\n",
    "print(a)\n",
    "lb=['CEO','Director of Marketing','Director of Operations','Senior Marketing Manager',\n",
    "    'Chief Technology Officer','Director of Human Resources' ]\n",
    "plt.pie(a,labels=lb)\n",
    "plt.show()"
   ]
  },
  {
   "cell_type": "code",
   "execution_count": 28,
   "id": "685dd4bd",
   "metadata": {},
   "outputs": [
    {
     "data": {
      "text/html": [
       "<div>\n",
       "<style scoped>\n",
       "    .dataframe tbody tr th:only-of-type {\n",
       "        vertical-align: middle;\n",
       "    }\n",
       "\n",
       "    .dataframe tbody tr th {\n",
       "        vertical-align: top;\n",
       "    }\n",
       "\n",
       "    .dataframe thead th {\n",
       "        text-align: right;\n",
       "    }\n",
       "</style>\n",
       "<table border=\"1\" class=\"dataframe\">\n",
       "  <thead>\n",
       "    <tr style=\"text-align: right;\">\n",
       "      <th></th>\n",
       "      <th>Education Level</th>\n",
       "      <th>Job Title</th>\n",
       "      <th>Years of Experience</th>\n",
       "      <th>Salary</th>\n",
       "    </tr>\n",
       "  </thead>\n",
       "  <tbody>\n",
       "    <tr>\n",
       "      <th>0</th>\n",
       "      <td>0</td>\n",
       "      <td>Software Engineer</td>\n",
       "      <td>5.0</td>\n",
       "      <td>90000.0</td>\n",
       "    </tr>\n",
       "    <tr>\n",
       "      <th>1</th>\n",
       "      <td>1</td>\n",
       "      <td>Data Analyst</td>\n",
       "      <td>3.0</td>\n",
       "      <td>65000.0</td>\n",
       "    </tr>\n",
       "    <tr>\n",
       "      <th>2</th>\n",
       "      <td>2</td>\n",
       "      <td>Senior Manager</td>\n",
       "      <td>15.0</td>\n",
       "      <td>150000.0</td>\n",
       "    </tr>\n",
       "    <tr>\n",
       "      <th>3</th>\n",
       "      <td>0</td>\n",
       "      <td>Sales Associate</td>\n",
       "      <td>7.0</td>\n",
       "      <td>60000.0</td>\n",
       "    </tr>\n",
       "    <tr>\n",
       "      <th>4</th>\n",
       "      <td>1</td>\n",
       "      <td>Director</td>\n",
       "      <td>20.0</td>\n",
       "      <td>200000.0</td>\n",
       "    </tr>\n",
       "    <tr>\n",
       "      <th>...</th>\n",
       "      <td>...</td>\n",
       "      <td>...</td>\n",
       "      <td>...</td>\n",
       "      <td>...</td>\n",
       "    </tr>\n",
       "    <tr>\n",
       "      <th>370</th>\n",
       "      <td>0</td>\n",
       "      <td>Senior Marketing Analyst</td>\n",
       "      <td>8.0</td>\n",
       "      <td>85000.0</td>\n",
       "    </tr>\n",
       "    <tr>\n",
       "      <th>371</th>\n",
       "      <td>1</td>\n",
       "      <td>Director of Operations</td>\n",
       "      <td>19.0</td>\n",
       "      <td>170000.0</td>\n",
       "    </tr>\n",
       "    <tr>\n",
       "      <th>372</th>\n",
       "      <td>0</td>\n",
       "      <td>Junior Project Manager</td>\n",
       "      <td>2.0</td>\n",
       "      <td>40000.0</td>\n",
       "    </tr>\n",
       "    <tr>\n",
       "      <th>373</th>\n",
       "      <td>0</td>\n",
       "      <td>Senior Operations Coordinator</td>\n",
       "      <td>7.0</td>\n",
       "      <td>90000.0</td>\n",
       "    </tr>\n",
       "    <tr>\n",
       "      <th>374</th>\n",
       "      <td>2</td>\n",
       "      <td>Senior Business Analyst</td>\n",
       "      <td>15.0</td>\n",
       "      <td>150000.0</td>\n",
       "    </tr>\n",
       "  </tbody>\n",
       "</table>\n",
       "<p>375 rows × 4 columns</p>\n",
       "</div>"
      ],
      "text/plain": [
       "     Education Level                      Job Title  Years of Experience  \\\n",
       "0                  0              Software Engineer                  5.0   \n",
       "1                  1                   Data Analyst                  3.0   \n",
       "2                  2                 Senior Manager                 15.0   \n",
       "3                  0                Sales Associate                  7.0   \n",
       "4                  1                       Director                 20.0   \n",
       "..               ...                            ...                  ...   \n",
       "370                0       Senior Marketing Analyst                  8.0   \n",
       "371                1         Director of Operations                 19.0   \n",
       "372                0         Junior Project Manager                  2.0   \n",
       "373                0  Senior Operations Coordinator                  7.0   \n",
       "374                2        Senior Business Analyst                 15.0   \n",
       "\n",
       "       Salary  \n",
       "0     90000.0  \n",
       "1     65000.0  \n",
       "2    150000.0  \n",
       "3     60000.0  \n",
       "4    200000.0  \n",
       "..        ...  \n",
       "370   85000.0  \n",
       "371  170000.0  \n",
       "372   40000.0  \n",
       "373   90000.0  \n",
       "374  150000.0  \n",
       "\n",
       "[375 rows x 4 columns]"
      ]
     },
     "execution_count": 28,
     "metadata": {},
     "output_type": "execute_result"
    }
   ],
   "source": [
    "df['Education Level']=df['Education Level'].map({\"Bachelor's\":0,\"Master's\":1,'PhD':2})\n",
    "df"
   ]
  },
  {
   "cell_type": "code",
   "execution_count": 29,
   "id": "b80eec31",
   "metadata": {},
   "outputs": [
    {
     "name": "stdout",
     "output_type": "stream",
     "text": [
      "Director of Marketing                    12\n",
      "Director of Operations                   11\n",
      "Senior Business Analyst                  10\n",
      "Senior Marketing Analyst                  9\n",
      "Senior Marketing Manager                  9\n",
      "Junior Business Analyst                   8\n",
      "Senior Data Scientist                     7\n",
      "Junior Marketing Coordinator              7\n",
      "Junior Business Development Associate     7\n",
      "Junior Financial Analyst                  7\n",
      "Name: Job Title, dtype: int64\n"
     ]
    }
   ],
   "source": [
    "print(df['Job Title'].value_counts().head(10))"
   ]
  },
  {
   "cell_type": "code",
   "execution_count": 30,
   "id": "268b88e0",
   "metadata": {},
   "outputs": [
    {
     "name": "stdout",
     "output_type": "stream",
     "text": [
      "before removing least job: (375, 4)\n",
      "after removing least job: (87, 4)\n"
     ]
    }
   ],
   "source": [
    "most_job=['Director of Marketing','Director of Operations','Senior Business Analyst','Senior Marketing Analyst',\n",
    "          'Senior Marketing Manager','Junior Business Analyst','Senior Data Scientist','Junior Marketing Coordinator',\n",
    "          'Junior Business Development Associate','Junior Financial Analyst']\n",
    "print(\"before removing least job:\",df.shape)\n",
    "df=df[df['Job Title'].isin(most_job)]\n",
    "print(\"after removing least job:\",df.shape)"
   ]
  },
  {
   "cell_type": "code",
   "execution_count": 31,
   "id": "d86da0fe",
   "metadata": {},
   "outputs": [
    {
     "data": {
      "text/plain": [
       "array(['Director of Marketing', 'Director of Operations',\n",
       "       'Senior Data Scientist', 'Senior Marketing Manager',\n",
       "       'Senior Marketing Analyst', 'Senior Business Analyst',\n",
       "       'Junior Business Analyst', 'Junior Financial Analyst',\n",
       "       'Junior Business Development Associate',\n",
       "       'Junior Marketing Coordinator'], dtype=object)"
      ]
     },
     "execution_count": 31,
     "metadata": {},
     "output_type": "execute_result"
    }
   ],
   "source": [
    "df['Job Title'].unique()"
   ]
  },
  {
   "cell_type": "code",
   "execution_count": 32,
   "id": "52c5d4ec",
   "metadata": {},
   "outputs": [
    {
     "name": "stdout",
     "output_type": "stream",
     "text": [
      "<class 'pandas.core.frame.DataFrame'>\n",
      "Int64Index: 87 entries, 47 to 374\n",
      "Data columns (total 4 columns):\n",
      " #   Column               Non-Null Count  Dtype  \n",
      "---  ------               --------------  -----  \n",
      " 0   Education Level      87 non-null     int64  \n",
      " 1   Job Title            87 non-null     object \n",
      " 2   Years of Experience  87 non-null     float64\n",
      " 3   Salary               87 non-null     float64\n",
      "dtypes: float64(2), int64(1), object(1)\n",
      "memory usage: 3.4+ KB\n"
     ]
    }
   ],
   "source": [
    "df.info()"
   ]
  },
  {
   "cell_type": "code",
   "execution_count": 33,
   "id": "c9dfc72c",
   "metadata": {},
   "outputs": [],
   "source": [
    "encoded_df=pd.get_dummies(data=df,columns=['Job Title'],dtype='int')"
   ]
  },
  {
   "cell_type": "code",
   "execution_count": 34,
   "id": "0ea7b326",
   "metadata": {},
   "outputs": [
    {
     "data": {
      "text/html": [
       "<div>\n",
       "<style scoped>\n",
       "    .dataframe tbody tr th:only-of-type {\n",
       "        vertical-align: middle;\n",
       "    }\n",
       "\n",
       "    .dataframe tbody tr th {\n",
       "        vertical-align: top;\n",
       "    }\n",
       "\n",
       "    .dataframe thead th {\n",
       "        text-align: right;\n",
       "    }\n",
       "</style>\n",
       "<table border=\"1\" class=\"dataframe\">\n",
       "  <thead>\n",
       "    <tr style=\"text-align: right;\">\n",
       "      <th></th>\n",
       "      <th>Education Level</th>\n",
       "      <th>Years of Experience</th>\n",
       "      <th>Salary</th>\n",
       "      <th>Job Title_Director of Marketing</th>\n",
       "      <th>Job Title_Director of Operations</th>\n",
       "      <th>Job Title_Junior Business Analyst</th>\n",
       "      <th>Job Title_Junior Business Development Associate</th>\n",
       "      <th>Job Title_Junior Financial Analyst</th>\n",
       "      <th>Job Title_Junior Marketing Coordinator</th>\n",
       "      <th>Job Title_Senior Business Analyst</th>\n",
       "      <th>Job Title_Senior Data Scientist</th>\n",
       "      <th>Job Title_Senior Marketing Analyst</th>\n",
       "      <th>Job Title_Senior Marketing Manager</th>\n",
       "    </tr>\n",
       "  </thead>\n",
       "  <tbody>\n",
       "    <tr>\n",
       "      <th>47</th>\n",
       "      <td>1</td>\n",
       "      <td>16.0</td>\n",
       "      <td>180000.0</td>\n",
       "      <td>1</td>\n",
       "      <td>0</td>\n",
       "      <td>0</td>\n",
       "      <td>0</td>\n",
       "      <td>0</td>\n",
       "      <td>0</td>\n",
       "      <td>0</td>\n",
       "      <td>0</td>\n",
       "      <td>0</td>\n",
       "      <td>0</td>\n",
       "    </tr>\n",
       "    <tr>\n",
       "      <th>60</th>\n",
       "      <td>1</td>\n",
       "      <td>23.0</td>\n",
       "      <td>170000.0</td>\n",
       "      <td>0</td>\n",
       "      <td>1</td>\n",
       "      <td>0</td>\n",
       "      <td>0</td>\n",
       "      <td>0</td>\n",
       "      <td>0</td>\n",
       "      <td>0</td>\n",
       "      <td>0</td>\n",
       "      <td>0</td>\n",
       "      <td>0</td>\n",
       "    </tr>\n",
       "    <tr>\n",
       "      <th>63</th>\n",
       "      <td>2</td>\n",
       "      <td>21.0</td>\n",
       "      <td>180000.0</td>\n",
       "      <td>0</td>\n",
       "      <td>0</td>\n",
       "      <td>0</td>\n",
       "      <td>0</td>\n",
       "      <td>0</td>\n",
       "      <td>0</td>\n",
       "      <td>0</td>\n",
       "      <td>1</td>\n",
       "      <td>0</td>\n",
       "      <td>0</td>\n",
       "    </tr>\n",
       "    <tr>\n",
       "      <th>93</th>\n",
       "      <td>1</td>\n",
       "      <td>25.0</td>\n",
       "      <td>170000.0</td>\n",
       "      <td>0</td>\n",
       "      <td>0</td>\n",
       "      <td>0</td>\n",
       "      <td>0</td>\n",
       "      <td>0</td>\n",
       "      <td>0</td>\n",
       "      <td>0</td>\n",
       "      <td>0</td>\n",
       "      <td>0</td>\n",
       "      <td>1</td>\n",
       "    </tr>\n",
       "    <tr>\n",
       "      <th>108</th>\n",
       "      <td>1</td>\n",
       "      <td>14.0</td>\n",
       "      <td>100000.0</td>\n",
       "      <td>0</td>\n",
       "      <td>0</td>\n",
       "      <td>0</td>\n",
       "      <td>0</td>\n",
       "      <td>0</td>\n",
       "      <td>0</td>\n",
       "      <td>0</td>\n",
       "      <td>0</td>\n",
       "      <td>1</td>\n",
       "      <td>0</td>\n",
       "    </tr>\n",
       "    <tr>\n",
       "      <th>...</th>\n",
       "      <td>...</td>\n",
       "      <td>...</td>\n",
       "      <td>...</td>\n",
       "      <td>...</td>\n",
       "      <td>...</td>\n",
       "      <td>...</td>\n",
       "      <td>...</td>\n",
       "      <td>...</td>\n",
       "      <td>...</td>\n",
       "      <td>...</td>\n",
       "      <td>...</td>\n",
       "      <td>...</td>\n",
       "      <td>...</td>\n",
       "    </tr>\n",
       "    <tr>\n",
       "      <th>366</th>\n",
       "      <td>0</td>\n",
       "      <td>3.0</td>\n",
       "      <td>50000.0</td>\n",
       "      <td>0</td>\n",
       "      <td>0</td>\n",
       "      <td>0</td>\n",
       "      <td>0</td>\n",
       "      <td>1</td>\n",
       "      <td>0</td>\n",
       "      <td>0</td>\n",
       "      <td>0</td>\n",
       "      <td>0</td>\n",
       "      <td>0</td>\n",
       "    </tr>\n",
       "    <tr>\n",
       "      <th>369</th>\n",
       "      <td>0</td>\n",
       "      <td>4.0</td>\n",
       "      <td>60000.0</td>\n",
       "      <td>0</td>\n",
       "      <td>0</td>\n",
       "      <td>1</td>\n",
       "      <td>0</td>\n",
       "      <td>0</td>\n",
       "      <td>0</td>\n",
       "      <td>0</td>\n",
       "      <td>0</td>\n",
       "      <td>0</td>\n",
       "      <td>0</td>\n",
       "    </tr>\n",
       "    <tr>\n",
       "      <th>370</th>\n",
       "      <td>0</td>\n",
       "      <td>8.0</td>\n",
       "      <td>85000.0</td>\n",
       "      <td>0</td>\n",
       "      <td>0</td>\n",
       "      <td>0</td>\n",
       "      <td>0</td>\n",
       "      <td>0</td>\n",
       "      <td>0</td>\n",
       "      <td>0</td>\n",
       "      <td>0</td>\n",
       "      <td>1</td>\n",
       "      <td>0</td>\n",
       "    </tr>\n",
       "    <tr>\n",
       "      <th>371</th>\n",
       "      <td>1</td>\n",
       "      <td>19.0</td>\n",
       "      <td>170000.0</td>\n",
       "      <td>0</td>\n",
       "      <td>1</td>\n",
       "      <td>0</td>\n",
       "      <td>0</td>\n",
       "      <td>0</td>\n",
       "      <td>0</td>\n",
       "      <td>0</td>\n",
       "      <td>0</td>\n",
       "      <td>0</td>\n",
       "      <td>0</td>\n",
       "    </tr>\n",
       "    <tr>\n",
       "      <th>374</th>\n",
       "      <td>2</td>\n",
       "      <td>15.0</td>\n",
       "      <td>150000.0</td>\n",
       "      <td>0</td>\n",
       "      <td>0</td>\n",
       "      <td>0</td>\n",
       "      <td>0</td>\n",
       "      <td>0</td>\n",
       "      <td>0</td>\n",
       "      <td>1</td>\n",
       "      <td>0</td>\n",
       "      <td>0</td>\n",
       "      <td>0</td>\n",
       "    </tr>\n",
       "  </tbody>\n",
       "</table>\n",
       "<p>87 rows × 13 columns</p>\n",
       "</div>"
      ],
      "text/plain": [
       "     Education Level  Years of Experience    Salary  \\\n",
       "47                 1                 16.0  180000.0   \n",
       "60                 1                 23.0  170000.0   \n",
       "63                 2                 21.0  180000.0   \n",
       "93                 1                 25.0  170000.0   \n",
       "108                1                 14.0  100000.0   \n",
       "..               ...                  ...       ...   \n",
       "366                0                  3.0   50000.0   \n",
       "369                0                  4.0   60000.0   \n",
       "370                0                  8.0   85000.0   \n",
       "371                1                 19.0  170000.0   \n",
       "374                2                 15.0  150000.0   \n",
       "\n",
       "     Job Title_Director of Marketing  Job Title_Director of Operations  \\\n",
       "47                                 1                                 0   \n",
       "60                                 0                                 1   \n",
       "63                                 0                                 0   \n",
       "93                                 0                                 0   \n",
       "108                                0                                 0   \n",
       "..                               ...                               ...   \n",
       "366                                0                                 0   \n",
       "369                                0                                 0   \n",
       "370                                0                                 0   \n",
       "371                                0                                 1   \n",
       "374                                0                                 0   \n",
       "\n",
       "     Job Title_Junior Business Analyst  \\\n",
       "47                                   0   \n",
       "60                                   0   \n",
       "63                                   0   \n",
       "93                                   0   \n",
       "108                                  0   \n",
       "..                                 ...   \n",
       "366                                  0   \n",
       "369                                  1   \n",
       "370                                  0   \n",
       "371                                  0   \n",
       "374                                  0   \n",
       "\n",
       "     Job Title_Junior Business Development Associate  \\\n",
       "47                                                 0   \n",
       "60                                                 0   \n",
       "63                                                 0   \n",
       "93                                                 0   \n",
       "108                                                0   \n",
       "..                                               ...   \n",
       "366                                                0   \n",
       "369                                                0   \n",
       "370                                                0   \n",
       "371                                                0   \n",
       "374                                                0   \n",
       "\n",
       "     Job Title_Junior Financial Analyst  \\\n",
       "47                                    0   \n",
       "60                                    0   \n",
       "63                                    0   \n",
       "93                                    0   \n",
       "108                                   0   \n",
       "..                                  ...   \n",
       "366                                   1   \n",
       "369                                   0   \n",
       "370                                   0   \n",
       "371                                   0   \n",
       "374                                   0   \n",
       "\n",
       "     Job Title_Junior Marketing Coordinator  \\\n",
       "47                                        0   \n",
       "60                                        0   \n",
       "63                                        0   \n",
       "93                                        0   \n",
       "108                                       0   \n",
       "..                                      ...   \n",
       "366                                       0   \n",
       "369                                       0   \n",
       "370                                       0   \n",
       "371                                       0   \n",
       "374                                       0   \n",
       "\n",
       "     Job Title_Senior Business Analyst  Job Title_Senior Data Scientist  \\\n",
       "47                                   0                                0   \n",
       "60                                   0                                0   \n",
       "63                                   0                                1   \n",
       "93                                   0                                0   \n",
       "108                                  0                                0   \n",
       "..                                 ...                              ...   \n",
       "366                                  0                                0   \n",
       "369                                  0                                0   \n",
       "370                                  0                                0   \n",
       "371                                  0                                0   \n",
       "374                                  1                                0   \n",
       "\n",
       "     Job Title_Senior Marketing Analyst  Job Title_Senior Marketing Manager  \n",
       "47                                    0                                   0  \n",
       "60                                    0                                   0  \n",
       "63                                    0                                   0  \n",
       "93                                    0                                   1  \n",
       "108                                   1                                   0  \n",
       "..                                  ...                                 ...  \n",
       "366                                   0                                   0  \n",
       "369                                   0                                   0  \n",
       "370                                   1                                   0  \n",
       "371                                   0                                   0  \n",
       "374                                   0                                   0  \n",
       "\n",
       "[87 rows x 13 columns]"
      ]
     },
     "execution_count": 34,
     "metadata": {},
     "output_type": "execute_result"
    }
   ],
   "source": [
    "encoded_df"
   ]
  },
  {
   "cell_type": "code",
   "execution_count": 35,
   "id": "5d76e12c",
   "metadata": {},
   "outputs": [
    {
     "data": {
      "text/plain": [
       "Index(['Education Level', 'Years of Experience', 'Salary',\n",
       "       'Job Title_Director of Marketing', 'Job Title_Director of Operations',\n",
       "       'Job Title_Junior Business Analyst',\n",
       "       'Job Title_Junior Business Development Associate',\n",
       "       'Job Title_Junior Financial Analyst',\n",
       "       'Job Title_Junior Marketing Coordinator',\n",
       "       'Job Title_Senior Business Analyst', 'Job Title_Senior Data Scientist',\n",
       "       'Job Title_Senior Marketing Analyst',\n",
       "       'Job Title_Senior Marketing Manager'],\n",
       "      dtype='object')"
      ]
     },
     "execution_count": 35,
     "metadata": {},
     "output_type": "execute_result"
    }
   ],
   "source": [
    "encoded_df.columns"
   ]
  },
  {
   "cell_type": "code",
   "execution_count": 36,
   "id": "ad84d1c8",
   "metadata": {},
   "outputs": [],
   "source": [
    "encoded_df=encoded_df[['Education Level', 'Years of Experience', 'Salary',\n",
    "       'Job Title_Director of Marketing', 'Job Title_Director of Operations',\n",
    "       'Job Title_Junior Business Analyst',\n",
    "       'Job Title_Junior Business Development Associate',\n",
    "       'Job Title_Junior Financial Analyst',\n",
    "       'Job Title_Junior Marketing Coordinator',\n",
    "       'Job Title_Senior Business Analyst', 'Job Title_Senior Data Scientist',\n",
    "       'Job Title_Senior Marketing Analyst',\n",
    "       'Job Title_Senior Marketing Manager']]"
   ]
  },
  {
   "cell_type": "code",
   "execution_count": 37,
   "id": "20c3f186",
   "metadata": {},
   "outputs": [
    {
     "name": "stdout",
     "output_type": "stream",
     "text": [
      "<class 'pandas.core.frame.DataFrame'>\n",
      "Int64Index: 87 entries, 47 to 374\n",
      "Data columns (total 13 columns):\n",
      " #   Column                                           Non-Null Count  Dtype  \n",
      "---  ------                                           --------------  -----  \n",
      " 0   Education Level                                  87 non-null     int64  \n",
      " 1   Years of Experience                              87 non-null     float64\n",
      " 2   Salary                                           87 non-null     float64\n",
      " 3   Job Title_Director of Marketing                  87 non-null     int32  \n",
      " 4   Job Title_Director of Operations                 87 non-null     int32  \n",
      " 5   Job Title_Junior Business Analyst                87 non-null     int32  \n",
      " 6   Job Title_Junior Business Development Associate  87 non-null     int32  \n",
      " 7   Job Title_Junior Financial Analyst               87 non-null     int32  \n",
      " 8   Job Title_Junior Marketing Coordinator           87 non-null     int32  \n",
      " 9   Job Title_Senior Business Analyst                87 non-null     int32  \n",
      " 10  Job Title_Senior Data Scientist                  87 non-null     int32  \n",
      " 11  Job Title_Senior Marketing Analyst               87 non-null     int32  \n",
      " 12  Job Title_Senior Marketing Manager               87 non-null     int32  \n",
      "dtypes: float64(2), int32(10), int64(1)\n",
      "memory usage: 6.1 KB\n"
     ]
    }
   ],
   "source": [
    "encoded_df.info()"
   ]
  },
  {
   "cell_type": "code",
   "execution_count": 38,
   "id": "bb825390",
   "metadata": {},
   "outputs": [
    {
     "data": {
      "text/plain": [
       "Index(['Education Level', 'Years of Experience', 'Salary',\n",
       "       'Job Title_Director of Marketing', 'Job Title_Director of Operations',\n",
       "       'Job Title_Junior Business Analyst',\n",
       "       'Job Title_Junior Business Development Associate',\n",
       "       'Job Title_Junior Financial Analyst',\n",
       "       'Job Title_Junior Marketing Coordinator',\n",
       "       'Job Title_Senior Business Analyst', 'Job Title_Senior Data Scientist',\n",
       "       'Job Title_Senior Marketing Analyst',\n",
       "       'Job Title_Senior Marketing Manager'],\n",
       "      dtype='object')"
      ]
     },
     "execution_count": 38,
     "metadata": {},
     "output_type": "execute_result"
    }
   ],
   "source": [
    "encoded_df.columns"
   ]
  },
  {
   "cell_type": "markdown",
   "id": "4fcabf76",
   "metadata": {},
   "source": [
    "# Regression Model"
   ]
  },
  {
   "cell_type": "code",
   "execution_count": 39,
   "id": "4dea1ca6",
   "metadata": {},
   "outputs": [
    {
     "data": {
      "text/html": [
       "<div>\n",
       "<style scoped>\n",
       "    .dataframe tbody tr th:only-of-type {\n",
       "        vertical-align: middle;\n",
       "    }\n",
       "\n",
       "    .dataframe tbody tr th {\n",
       "        vertical-align: top;\n",
       "    }\n",
       "\n",
       "    .dataframe thead th {\n",
       "        text-align: right;\n",
       "    }\n",
       "</style>\n",
       "<table border=\"1\" class=\"dataframe\">\n",
       "  <thead>\n",
       "    <tr style=\"text-align: right;\">\n",
       "      <th></th>\n",
       "      <th>Education Level</th>\n",
       "      <th>Years of Experience</th>\n",
       "      <th>Job Title_Director of Marketing</th>\n",
       "      <th>Job Title_Director of Operations</th>\n",
       "      <th>Job Title_Junior Business Analyst</th>\n",
       "      <th>Job Title_Junior Business Development Associate</th>\n",
       "      <th>Job Title_Junior Financial Analyst</th>\n",
       "      <th>Job Title_Junior Marketing Coordinator</th>\n",
       "      <th>Job Title_Senior Business Analyst</th>\n",
       "      <th>Job Title_Senior Data Scientist</th>\n",
       "      <th>Job Title_Senior Marketing Analyst</th>\n",
       "      <th>Job Title_Senior Marketing Manager</th>\n",
       "    </tr>\n",
       "  </thead>\n",
       "  <tbody>\n",
       "    <tr>\n",
       "      <th>47</th>\n",
       "      <td>1</td>\n",
       "      <td>16.0</td>\n",
       "      <td>1</td>\n",
       "      <td>0</td>\n",
       "      <td>0</td>\n",
       "      <td>0</td>\n",
       "      <td>0</td>\n",
       "      <td>0</td>\n",
       "      <td>0</td>\n",
       "      <td>0</td>\n",
       "      <td>0</td>\n",
       "      <td>0</td>\n",
       "    </tr>\n",
       "    <tr>\n",
       "      <th>60</th>\n",
       "      <td>1</td>\n",
       "      <td>23.0</td>\n",
       "      <td>0</td>\n",
       "      <td>1</td>\n",
       "      <td>0</td>\n",
       "      <td>0</td>\n",
       "      <td>0</td>\n",
       "      <td>0</td>\n",
       "      <td>0</td>\n",
       "      <td>0</td>\n",
       "      <td>0</td>\n",
       "      <td>0</td>\n",
       "    </tr>\n",
       "    <tr>\n",
       "      <th>63</th>\n",
       "      <td>2</td>\n",
       "      <td>21.0</td>\n",
       "      <td>0</td>\n",
       "      <td>0</td>\n",
       "      <td>0</td>\n",
       "      <td>0</td>\n",
       "      <td>0</td>\n",
       "      <td>0</td>\n",
       "      <td>0</td>\n",
       "      <td>1</td>\n",
       "      <td>0</td>\n",
       "      <td>0</td>\n",
       "    </tr>\n",
       "    <tr>\n",
       "      <th>93</th>\n",
       "      <td>1</td>\n",
       "      <td>25.0</td>\n",
       "      <td>0</td>\n",
       "      <td>0</td>\n",
       "      <td>0</td>\n",
       "      <td>0</td>\n",
       "      <td>0</td>\n",
       "      <td>0</td>\n",
       "      <td>0</td>\n",
       "      <td>0</td>\n",
       "      <td>0</td>\n",
       "      <td>1</td>\n",
       "    </tr>\n",
       "    <tr>\n",
       "      <th>108</th>\n",
       "      <td>1</td>\n",
       "      <td>14.0</td>\n",
       "      <td>0</td>\n",
       "      <td>0</td>\n",
       "      <td>0</td>\n",
       "      <td>0</td>\n",
       "      <td>0</td>\n",
       "      <td>0</td>\n",
       "      <td>0</td>\n",
       "      <td>0</td>\n",
       "      <td>1</td>\n",
       "      <td>0</td>\n",
       "    </tr>\n",
       "    <tr>\n",
       "      <th>...</th>\n",
       "      <td>...</td>\n",
       "      <td>...</td>\n",
       "      <td>...</td>\n",
       "      <td>...</td>\n",
       "      <td>...</td>\n",
       "      <td>...</td>\n",
       "      <td>...</td>\n",
       "      <td>...</td>\n",
       "      <td>...</td>\n",
       "      <td>...</td>\n",
       "      <td>...</td>\n",
       "      <td>...</td>\n",
       "    </tr>\n",
       "    <tr>\n",
       "      <th>366</th>\n",
       "      <td>0</td>\n",
       "      <td>3.0</td>\n",
       "      <td>0</td>\n",
       "      <td>0</td>\n",
       "      <td>0</td>\n",
       "      <td>0</td>\n",
       "      <td>1</td>\n",
       "      <td>0</td>\n",
       "      <td>0</td>\n",
       "      <td>0</td>\n",
       "      <td>0</td>\n",
       "      <td>0</td>\n",
       "    </tr>\n",
       "    <tr>\n",
       "      <th>369</th>\n",
       "      <td>0</td>\n",
       "      <td>4.0</td>\n",
       "      <td>0</td>\n",
       "      <td>0</td>\n",
       "      <td>1</td>\n",
       "      <td>0</td>\n",
       "      <td>0</td>\n",
       "      <td>0</td>\n",
       "      <td>0</td>\n",
       "      <td>0</td>\n",
       "      <td>0</td>\n",
       "      <td>0</td>\n",
       "    </tr>\n",
       "    <tr>\n",
       "      <th>370</th>\n",
       "      <td>0</td>\n",
       "      <td>8.0</td>\n",
       "      <td>0</td>\n",
       "      <td>0</td>\n",
       "      <td>0</td>\n",
       "      <td>0</td>\n",
       "      <td>0</td>\n",
       "      <td>0</td>\n",
       "      <td>0</td>\n",
       "      <td>0</td>\n",
       "      <td>1</td>\n",
       "      <td>0</td>\n",
       "    </tr>\n",
       "    <tr>\n",
       "      <th>371</th>\n",
       "      <td>1</td>\n",
       "      <td>19.0</td>\n",
       "      <td>0</td>\n",
       "      <td>1</td>\n",
       "      <td>0</td>\n",
       "      <td>0</td>\n",
       "      <td>0</td>\n",
       "      <td>0</td>\n",
       "      <td>0</td>\n",
       "      <td>0</td>\n",
       "      <td>0</td>\n",
       "      <td>0</td>\n",
       "    </tr>\n",
       "    <tr>\n",
       "      <th>374</th>\n",
       "      <td>2</td>\n",
       "      <td>15.0</td>\n",
       "      <td>0</td>\n",
       "      <td>0</td>\n",
       "      <td>0</td>\n",
       "      <td>0</td>\n",
       "      <td>0</td>\n",
       "      <td>0</td>\n",
       "      <td>1</td>\n",
       "      <td>0</td>\n",
       "      <td>0</td>\n",
       "      <td>0</td>\n",
       "    </tr>\n",
       "  </tbody>\n",
       "</table>\n",
       "<p>87 rows × 12 columns</p>\n",
       "</div>"
      ],
      "text/plain": [
       "     Education Level  Years of Experience  Job Title_Director of Marketing  \\\n",
       "47                 1                 16.0                                1   \n",
       "60                 1                 23.0                                0   \n",
       "63                 2                 21.0                                0   \n",
       "93                 1                 25.0                                0   \n",
       "108                1                 14.0                                0   \n",
       "..               ...                  ...                              ...   \n",
       "366                0                  3.0                                0   \n",
       "369                0                  4.0                                0   \n",
       "370                0                  8.0                                0   \n",
       "371                1                 19.0                                0   \n",
       "374                2                 15.0                                0   \n",
       "\n",
       "     Job Title_Director of Operations  Job Title_Junior Business Analyst  \\\n",
       "47                                  0                                  0   \n",
       "60                                  1                                  0   \n",
       "63                                  0                                  0   \n",
       "93                                  0                                  0   \n",
       "108                                 0                                  0   \n",
       "..                                ...                                ...   \n",
       "366                                 0                                  0   \n",
       "369                                 0                                  1   \n",
       "370                                 0                                  0   \n",
       "371                                 1                                  0   \n",
       "374                                 0                                  0   \n",
       "\n",
       "     Job Title_Junior Business Development Associate  \\\n",
       "47                                                 0   \n",
       "60                                                 0   \n",
       "63                                                 0   \n",
       "93                                                 0   \n",
       "108                                                0   \n",
       "..                                               ...   \n",
       "366                                                0   \n",
       "369                                                0   \n",
       "370                                                0   \n",
       "371                                                0   \n",
       "374                                                0   \n",
       "\n",
       "     Job Title_Junior Financial Analyst  \\\n",
       "47                                    0   \n",
       "60                                    0   \n",
       "63                                    0   \n",
       "93                                    0   \n",
       "108                                   0   \n",
       "..                                  ...   \n",
       "366                                   1   \n",
       "369                                   0   \n",
       "370                                   0   \n",
       "371                                   0   \n",
       "374                                   0   \n",
       "\n",
       "     Job Title_Junior Marketing Coordinator  \\\n",
       "47                                        0   \n",
       "60                                        0   \n",
       "63                                        0   \n",
       "93                                        0   \n",
       "108                                       0   \n",
       "..                                      ...   \n",
       "366                                       0   \n",
       "369                                       0   \n",
       "370                                       0   \n",
       "371                                       0   \n",
       "374                                       0   \n",
       "\n",
       "     Job Title_Senior Business Analyst  Job Title_Senior Data Scientist  \\\n",
       "47                                   0                                0   \n",
       "60                                   0                                0   \n",
       "63                                   0                                1   \n",
       "93                                   0                                0   \n",
       "108                                  0                                0   \n",
       "..                                 ...                              ...   \n",
       "366                                  0                                0   \n",
       "369                                  0                                0   \n",
       "370                                  0                                0   \n",
       "371                                  0                                0   \n",
       "374                                  1                                0   \n",
       "\n",
       "     Job Title_Senior Marketing Analyst  Job Title_Senior Marketing Manager  \n",
       "47                                    0                                   0  \n",
       "60                                    0                                   0  \n",
       "63                                    0                                   0  \n",
       "93                                    0                                   1  \n",
       "108                                   1                                   0  \n",
       "..                                  ...                                 ...  \n",
       "366                                   0                                   0  \n",
       "369                                   0                                   0  \n",
       "370                                   1                                   0  \n",
       "371                                   0                                   0  \n",
       "374                                   0                                   0  \n",
       "\n",
       "[87 rows x 12 columns]"
      ]
     },
     "execution_count": 39,
     "metadata": {},
     "output_type": "execute_result"
    }
   ],
   "source": [
    "x=encoded_df.drop(['Salary'],axis=1)\n",
    "x"
   ]
  },
  {
   "cell_type": "code",
   "execution_count": 40,
   "id": "0e7640da",
   "metadata": {},
   "outputs": [
    {
     "data": {
      "text/plain": [
       "47     180000.0\n",
       "60     170000.0\n",
       "63     180000.0\n",
       "93     170000.0\n",
       "108    100000.0\n",
       "         ...   \n",
       "366     50000.0\n",
       "369     60000.0\n",
       "370     85000.0\n",
       "371    170000.0\n",
       "374    150000.0\n",
       "Name: Salary, Length: 87, dtype: float64"
      ]
     },
     "execution_count": 40,
     "metadata": {},
     "output_type": "execute_result"
    }
   ],
   "source": [
    "y=df['Salary']\n",
    "y"
   ]
  },
  {
   "cell_type": "code",
   "execution_count": 41,
   "id": "35487ec3",
   "metadata": {},
   "outputs": [],
   "source": [
    "from sklearn.model_selection import train_test_split"
   ]
  },
  {
   "cell_type": "code",
   "execution_count": 42,
   "id": "8b360e57",
   "metadata": {},
   "outputs": [],
   "source": [
    "x_train,x_test,y_train,y_test=train_test_split(x,y,test_size=0.3,random_state=42)"
   ]
  },
  {
   "cell_type": "code",
   "execution_count": 43,
   "id": "821a4a60",
   "metadata": {},
   "outputs": [
    {
     "data": {
      "text/plain": [
       "(87, 4)"
      ]
     },
     "execution_count": 43,
     "metadata": {},
     "output_type": "execute_result"
    }
   ],
   "source": [
    "df.shape"
   ]
  },
  {
   "cell_type": "code",
   "execution_count": 44,
   "id": "80ed5dd2",
   "metadata": {},
   "outputs": [
    {
     "data": {
      "text/plain": [
       "(60, 12)"
      ]
     },
     "execution_count": 44,
     "metadata": {},
     "output_type": "execute_result"
    }
   ],
   "source": [
    "x_train.shape"
   ]
  },
  {
   "cell_type": "code",
   "execution_count": 45,
   "id": "dba36056",
   "metadata": {},
   "outputs": [
    {
     "data": {
      "text/plain": [
       "(27, 12)"
      ]
     },
     "execution_count": 45,
     "metadata": {},
     "output_type": "execute_result"
    }
   ],
   "source": [
    "x_test.shape"
   ]
  },
  {
   "cell_type": "code",
   "execution_count": 46,
   "id": "4f2045a6",
   "metadata": {},
   "outputs": [
    {
     "data": {
      "text/plain": [
       "(60,)"
      ]
     },
     "execution_count": 46,
     "metadata": {},
     "output_type": "execute_result"
    }
   ],
   "source": [
    "y_train.shape"
   ]
  },
  {
   "cell_type": "code",
   "execution_count": 47,
   "id": "8a41b755",
   "metadata": {},
   "outputs": [
    {
     "data": {
      "text/plain": [
       "(27,)"
      ]
     },
     "execution_count": 47,
     "metadata": {},
     "output_type": "execute_result"
    }
   ],
   "source": [
    "y_test.shape"
   ]
  },
  {
   "cell_type": "markdown",
   "id": "35cacdf1",
   "metadata": {},
   "source": [
    "# Linear Regression"
   ]
  },
  {
   "cell_type": "code",
   "execution_count": 48,
   "id": "395484fe",
   "metadata": {},
   "outputs": [
    {
     "data": {
      "text/html": [
       "<style>#sk-container-id-1 {color: black;}#sk-container-id-1 pre{padding: 0;}#sk-container-id-1 div.sk-toggleable {background-color: white;}#sk-container-id-1 label.sk-toggleable__label {cursor: pointer;display: block;width: 100%;margin-bottom: 0;padding: 0.3em;box-sizing: border-box;text-align: center;}#sk-container-id-1 label.sk-toggleable__label-arrow:before {content: \"▸\";float: left;margin-right: 0.25em;color: #696969;}#sk-container-id-1 label.sk-toggleable__label-arrow:hover:before {color: black;}#sk-container-id-1 div.sk-estimator:hover label.sk-toggleable__label-arrow:before {color: black;}#sk-container-id-1 div.sk-toggleable__content {max-height: 0;max-width: 0;overflow: hidden;text-align: left;background-color: #f0f8ff;}#sk-container-id-1 div.sk-toggleable__content pre {margin: 0.2em;color: black;border-radius: 0.25em;background-color: #f0f8ff;}#sk-container-id-1 input.sk-toggleable__control:checked~div.sk-toggleable__content {max-height: 200px;max-width: 100%;overflow: auto;}#sk-container-id-1 input.sk-toggleable__control:checked~label.sk-toggleable__label-arrow:before {content: \"▾\";}#sk-container-id-1 div.sk-estimator input.sk-toggleable__control:checked~label.sk-toggleable__label {background-color: #d4ebff;}#sk-container-id-1 div.sk-label input.sk-toggleable__control:checked~label.sk-toggleable__label {background-color: #d4ebff;}#sk-container-id-1 input.sk-hidden--visually {border: 0;clip: rect(1px 1px 1px 1px);clip: rect(1px, 1px, 1px, 1px);height: 1px;margin: -1px;overflow: hidden;padding: 0;position: absolute;width: 1px;}#sk-container-id-1 div.sk-estimator {font-family: monospace;background-color: #f0f8ff;border: 1px dotted black;border-radius: 0.25em;box-sizing: border-box;margin-bottom: 0.5em;}#sk-container-id-1 div.sk-estimator:hover {background-color: #d4ebff;}#sk-container-id-1 div.sk-parallel-item::after {content: \"\";width: 100%;border-bottom: 1px solid gray;flex-grow: 1;}#sk-container-id-1 div.sk-label:hover label.sk-toggleable__label {background-color: #d4ebff;}#sk-container-id-1 div.sk-serial::before {content: \"\";position: absolute;border-left: 1px solid gray;box-sizing: border-box;top: 0;bottom: 0;left: 50%;z-index: 0;}#sk-container-id-1 div.sk-serial {display: flex;flex-direction: column;align-items: center;background-color: white;padding-right: 0.2em;padding-left: 0.2em;position: relative;}#sk-container-id-1 div.sk-item {position: relative;z-index: 1;}#sk-container-id-1 div.sk-parallel {display: flex;align-items: stretch;justify-content: center;background-color: white;position: relative;}#sk-container-id-1 div.sk-item::before, #sk-container-id-1 div.sk-parallel-item::before {content: \"\";position: absolute;border-left: 1px solid gray;box-sizing: border-box;top: 0;bottom: 0;left: 50%;z-index: -1;}#sk-container-id-1 div.sk-parallel-item {display: flex;flex-direction: column;z-index: 1;position: relative;background-color: white;}#sk-container-id-1 div.sk-parallel-item:first-child::after {align-self: flex-end;width: 50%;}#sk-container-id-1 div.sk-parallel-item:last-child::after {align-self: flex-start;width: 50%;}#sk-container-id-1 div.sk-parallel-item:only-child::after {width: 0;}#sk-container-id-1 div.sk-dashed-wrapped {border: 1px dashed gray;margin: 0 0.4em 0.5em 0.4em;box-sizing: border-box;padding-bottom: 0.4em;background-color: white;}#sk-container-id-1 div.sk-label label {font-family: monospace;font-weight: bold;display: inline-block;line-height: 1.2em;}#sk-container-id-1 div.sk-label-container {text-align: center;}#sk-container-id-1 div.sk-container {/* jupyter's `normalize.less` sets `[hidden] { display: none; }` but bootstrap.min.css set `[hidden] { display: none !important; }` so we also need the `!important` here to be able to override the default hidden behavior on the sphinx rendered scikit-learn.org. See: https://github.com/scikit-learn/scikit-learn/issues/21755 */display: inline-block !important;position: relative;}#sk-container-id-1 div.sk-text-repr-fallback {display: none;}</style><div id=\"sk-container-id-1\" class=\"sk-top-container\"><div class=\"sk-text-repr-fallback\"><pre>LinearRegression()</pre><b>In a Jupyter environment, please rerun this cell to show the HTML representation or trust the notebook. <br />On GitHub, the HTML representation is unable to render, please try loading this page with nbviewer.org.</b></div><div class=\"sk-container\" hidden><div class=\"sk-item\"><div class=\"sk-estimator sk-toggleable\"><input class=\"sk-toggleable__control sk-hidden--visually\" id=\"sk-estimator-id-1\" type=\"checkbox\" checked><label for=\"sk-estimator-id-1\" class=\"sk-toggleable__label sk-toggleable__label-arrow\">LinearRegression</label><div class=\"sk-toggleable__content\"><pre>LinearRegression()</pre></div></div></div></div></div>"
      ],
      "text/plain": [
       "LinearRegression()"
      ]
     },
     "execution_count": 48,
     "metadata": {},
     "output_type": "execute_result"
    }
   ],
   "source": [
    "from sklearn.linear_model import LinearRegression\n",
    "linear_regressor=LinearRegression()\n",
    "linear_regressor.fit(x_train,y_train)"
   ]
  },
  {
   "cell_type": "code",
   "execution_count": 49,
   "id": "c7ab5a2d",
   "metadata": {},
   "outputs": [
    {
     "data": {
      "text/plain": [
       "array([177214.36371601, 158151.52245845,  48010.29153889,  39381.25682515,\n",
       "        96306.20090396, 162359.71571692, 100690.52442025, 166172.28396844,\n",
       "       115369.04216152, 142365.76748573,  85000.        ,  43193.82507666,\n",
       "        88812.56825151, 142365.76748573,  53812.56825151, 177214.36371601,\n",
       "       166172.28396844, 162359.71571692, 177214.36371601, 156781.14762273,\n",
       "       156781.14762273,  44281.14762273, 173401.7954645 , 164406.28412576,\n",
       "       128820.40194776, 102263.92803775, 100559.02056967])"
      ]
     },
     "execution_count": 49,
     "metadata": {},
     "output_type": "execute_result"
    }
   ],
   "source": [
    "y_pred_lr=linear_regressor.predict(x_test)\n",
    "y_pred_lr"
   ]
  },
  {
   "cell_type": "code",
   "execution_count": 50,
   "id": "3705a6bf",
   "metadata": {},
   "outputs": [
    {
     "name": "stdout",
     "output_type": "stream",
     "text": [
      "---------Linear-regression--Model-evaluation----------\n",
      "mean absolute error(MAE): 7056.099241121319\n",
      "mean squared error(MSE): 75772386.59553583\n",
      "root mean squared error(RMSE): 8704.733574069676\n"
     ]
    }
   ],
   "source": [
    "import numpy as np\n",
    "from sklearn.metrics import mean_squared_error as mse,mean_absolute_error as mae\n",
    "print(\"---------Linear-regression--Model-evaluation----------\")\n",
    "print(\"mean absolute error(MAE):\",mae(y_test,y_pred_lr))\n",
    "print(\"mean squared error(MSE):\",mse(y_test,y_pred_lr))\n",
    "print(\"root mean squared error(RMSE):\",np.sqrt(mse(y_test,y_pred_lr)))"
   ]
  },
  {
   "cell_type": "code",
   "execution_count": 51,
   "id": "921a1902",
   "metadata": {},
   "outputs": [
    {
     "name": "stdout",
     "output_type": "stream",
     "text": [
      "accuracy of lr on training set: 0.9865015501269133\n",
      "accuracy of lr on test set: 0.969173464016884\n"
     ]
    }
   ],
   "source": [
    "print(\"accuracy of lr on training set:\",linear_regressor.score(x_train,y_train))\n",
    "print(\"accuracy of lr on test set:\",linear_regressor.score(x_test,y_test))"
   ]
  },
  {
   "cell_type": "markdown",
   "id": "4f9ff89f",
   "metadata": {},
   "source": [
    "# Decision Tree Regression"
   ]
  },
  {
   "cell_type": "code",
   "execution_count": 52,
   "id": "20db26bc",
   "metadata": {},
   "outputs": [
    {
     "data": {
      "text/html": [
       "<style>#sk-container-id-2 {color: black;}#sk-container-id-2 pre{padding: 0;}#sk-container-id-2 div.sk-toggleable {background-color: white;}#sk-container-id-2 label.sk-toggleable__label {cursor: pointer;display: block;width: 100%;margin-bottom: 0;padding: 0.3em;box-sizing: border-box;text-align: center;}#sk-container-id-2 label.sk-toggleable__label-arrow:before {content: \"▸\";float: left;margin-right: 0.25em;color: #696969;}#sk-container-id-2 label.sk-toggleable__label-arrow:hover:before {color: black;}#sk-container-id-2 div.sk-estimator:hover label.sk-toggleable__label-arrow:before {color: black;}#sk-container-id-2 div.sk-toggleable__content {max-height: 0;max-width: 0;overflow: hidden;text-align: left;background-color: #f0f8ff;}#sk-container-id-2 div.sk-toggleable__content pre {margin: 0.2em;color: black;border-radius: 0.25em;background-color: #f0f8ff;}#sk-container-id-2 input.sk-toggleable__control:checked~div.sk-toggleable__content {max-height: 200px;max-width: 100%;overflow: auto;}#sk-container-id-2 input.sk-toggleable__control:checked~label.sk-toggleable__label-arrow:before {content: \"▾\";}#sk-container-id-2 div.sk-estimator input.sk-toggleable__control:checked~label.sk-toggleable__label {background-color: #d4ebff;}#sk-container-id-2 div.sk-label input.sk-toggleable__control:checked~label.sk-toggleable__label {background-color: #d4ebff;}#sk-container-id-2 input.sk-hidden--visually {border: 0;clip: rect(1px 1px 1px 1px);clip: rect(1px, 1px, 1px, 1px);height: 1px;margin: -1px;overflow: hidden;padding: 0;position: absolute;width: 1px;}#sk-container-id-2 div.sk-estimator {font-family: monospace;background-color: #f0f8ff;border: 1px dotted black;border-radius: 0.25em;box-sizing: border-box;margin-bottom: 0.5em;}#sk-container-id-2 div.sk-estimator:hover {background-color: #d4ebff;}#sk-container-id-2 div.sk-parallel-item::after {content: \"\";width: 100%;border-bottom: 1px solid gray;flex-grow: 1;}#sk-container-id-2 div.sk-label:hover label.sk-toggleable__label {background-color: #d4ebff;}#sk-container-id-2 div.sk-serial::before {content: \"\";position: absolute;border-left: 1px solid gray;box-sizing: border-box;top: 0;bottom: 0;left: 50%;z-index: 0;}#sk-container-id-2 div.sk-serial {display: flex;flex-direction: column;align-items: center;background-color: white;padding-right: 0.2em;padding-left: 0.2em;position: relative;}#sk-container-id-2 div.sk-item {position: relative;z-index: 1;}#sk-container-id-2 div.sk-parallel {display: flex;align-items: stretch;justify-content: center;background-color: white;position: relative;}#sk-container-id-2 div.sk-item::before, #sk-container-id-2 div.sk-parallel-item::before {content: \"\";position: absolute;border-left: 1px solid gray;box-sizing: border-box;top: 0;bottom: 0;left: 50%;z-index: -1;}#sk-container-id-2 div.sk-parallel-item {display: flex;flex-direction: column;z-index: 1;position: relative;background-color: white;}#sk-container-id-2 div.sk-parallel-item:first-child::after {align-self: flex-end;width: 50%;}#sk-container-id-2 div.sk-parallel-item:last-child::after {align-self: flex-start;width: 50%;}#sk-container-id-2 div.sk-parallel-item:only-child::after {width: 0;}#sk-container-id-2 div.sk-dashed-wrapped {border: 1px dashed gray;margin: 0 0.4em 0.5em 0.4em;box-sizing: border-box;padding-bottom: 0.4em;background-color: white;}#sk-container-id-2 div.sk-label label {font-family: monospace;font-weight: bold;display: inline-block;line-height: 1.2em;}#sk-container-id-2 div.sk-label-container {text-align: center;}#sk-container-id-2 div.sk-container {/* jupyter's `normalize.less` sets `[hidden] { display: none; }` but bootstrap.min.css set `[hidden] { display: none !important; }` so we also need the `!important` here to be able to override the default hidden behavior on the sphinx rendered scikit-learn.org. See: https://github.com/scikit-learn/scikit-learn/issues/21755 */display: inline-block !important;position: relative;}#sk-container-id-2 div.sk-text-repr-fallback {display: none;}</style><div id=\"sk-container-id-2\" class=\"sk-top-container\"><div class=\"sk-text-repr-fallback\"><pre>DecisionTreeRegressor()</pre><b>In a Jupyter environment, please rerun this cell to show the HTML representation or trust the notebook. <br />On GitHub, the HTML representation is unable to render, please try loading this page with nbviewer.org.</b></div><div class=\"sk-container\" hidden><div class=\"sk-item\"><div class=\"sk-estimator sk-toggleable\"><input class=\"sk-toggleable__control sk-hidden--visually\" id=\"sk-estimator-id-2\" type=\"checkbox\" checked><label for=\"sk-estimator-id-2\" class=\"sk-toggleable__label sk-toggleable__label-arrow\">DecisionTreeRegressor</label><div class=\"sk-toggleable__content\"><pre>DecisionTreeRegressor()</pre></div></div></div></div></div>"
      ],
      "text/plain": [
       "DecisionTreeRegressor()"
      ]
     },
     "execution_count": 52,
     "metadata": {},
     "output_type": "execute_result"
    }
   ],
   "source": [
    "from sklearn.tree import DecisionTreeRegressor\n",
    "dtr=DecisionTreeRegressor()\n",
    "dtr.fit(x_train,y_train)"
   ]
  },
  {
   "cell_type": "code",
   "execution_count": 53,
   "id": "80d95cf3",
   "metadata": {},
   "outputs": [
    {
     "data": {
      "text/plain": [
       "array([180000., 170000.,  40000.,  40000., 105000., 170000.,  95000.,\n",
       "       170000., 130000., 150000.,  85000.,  50000., 105000., 150000.,\n",
       "        60000., 180000., 170000., 170000., 180000., 160000., 160000.,\n",
       "        35000., 170000., 160000., 130000.,  95000.,  60000.])"
      ]
     },
     "execution_count": 53,
     "metadata": {},
     "output_type": "execute_result"
    }
   ],
   "source": [
    "y_pred_dtr=dtr.predict(x_test)\n",
    "y_pred_dtr"
   ]
  },
  {
   "cell_type": "code",
   "execution_count": 54,
   "id": "896859fd",
   "metadata": {},
   "outputs": [
    {
     "name": "stdout",
     "output_type": "stream",
     "text": [
      "---------Decision-Tree-Regression--Model-evaluation----------\n",
      "mean absolute error(MAE): 5000.0\n",
      "mean squared error(MSE): 99074074.07407407\n",
      "root mean squared error(RMSE): 9953.596037316065\n"
     ]
    }
   ],
   "source": [
    "print(\"---------Decision-Tree-Regression--Model-evaluation----------\")\n",
    "print(\"mean absolute error(MAE):\",mae(y_test,y_pred_dtr))\n",
    "print(\"mean squared error(MSE):\",mse(y_test,y_pred_dtr))\n",
    "print(\"root mean squared error(RMSE):\",np.sqrt(mse(y_test,y_pred_dtr)))"
   ]
  },
  {
   "cell_type": "code",
   "execution_count": 55,
   "id": "0a92f89e",
   "metadata": {},
   "outputs": [
    {
     "name": "stdout",
     "output_type": "stream",
     "text": [
      "accuracy of dtr on training set: 0.9976276558392879\n",
      "accuracy of dtr on test set: 0.9596936212958312\n"
     ]
    }
   ],
   "source": [
    "print(\"accuracy of dtr on training set:\",dtr.score(x_train,y_train))\n",
    "print(\"accuracy of dtr on test set:\",dtr.score(x_test,y_test))"
   ]
  },
  {
   "cell_type": "markdown",
   "id": "e09534c0",
   "metadata": {},
   "source": [
    "# Random Forest Regression"
   ]
  },
  {
   "cell_type": "code",
   "execution_count": 56,
   "id": "d42055dd",
   "metadata": {},
   "outputs": [
    {
     "data": {
      "text/html": [
       "<style>#sk-container-id-3 {color: black;}#sk-container-id-3 pre{padding: 0;}#sk-container-id-3 div.sk-toggleable {background-color: white;}#sk-container-id-3 label.sk-toggleable__label {cursor: pointer;display: block;width: 100%;margin-bottom: 0;padding: 0.3em;box-sizing: border-box;text-align: center;}#sk-container-id-3 label.sk-toggleable__label-arrow:before {content: \"▸\";float: left;margin-right: 0.25em;color: #696969;}#sk-container-id-3 label.sk-toggleable__label-arrow:hover:before {color: black;}#sk-container-id-3 div.sk-estimator:hover label.sk-toggleable__label-arrow:before {color: black;}#sk-container-id-3 div.sk-toggleable__content {max-height: 0;max-width: 0;overflow: hidden;text-align: left;background-color: #f0f8ff;}#sk-container-id-3 div.sk-toggleable__content pre {margin: 0.2em;color: black;border-radius: 0.25em;background-color: #f0f8ff;}#sk-container-id-3 input.sk-toggleable__control:checked~div.sk-toggleable__content {max-height: 200px;max-width: 100%;overflow: auto;}#sk-container-id-3 input.sk-toggleable__control:checked~label.sk-toggleable__label-arrow:before {content: \"▾\";}#sk-container-id-3 div.sk-estimator input.sk-toggleable__control:checked~label.sk-toggleable__label {background-color: #d4ebff;}#sk-container-id-3 div.sk-label input.sk-toggleable__control:checked~label.sk-toggleable__label {background-color: #d4ebff;}#sk-container-id-3 input.sk-hidden--visually {border: 0;clip: rect(1px 1px 1px 1px);clip: rect(1px, 1px, 1px, 1px);height: 1px;margin: -1px;overflow: hidden;padding: 0;position: absolute;width: 1px;}#sk-container-id-3 div.sk-estimator {font-family: monospace;background-color: #f0f8ff;border: 1px dotted black;border-radius: 0.25em;box-sizing: border-box;margin-bottom: 0.5em;}#sk-container-id-3 div.sk-estimator:hover {background-color: #d4ebff;}#sk-container-id-3 div.sk-parallel-item::after {content: \"\";width: 100%;border-bottom: 1px solid gray;flex-grow: 1;}#sk-container-id-3 div.sk-label:hover label.sk-toggleable__label {background-color: #d4ebff;}#sk-container-id-3 div.sk-serial::before {content: \"\";position: absolute;border-left: 1px solid gray;box-sizing: border-box;top: 0;bottom: 0;left: 50%;z-index: 0;}#sk-container-id-3 div.sk-serial {display: flex;flex-direction: column;align-items: center;background-color: white;padding-right: 0.2em;padding-left: 0.2em;position: relative;}#sk-container-id-3 div.sk-item {position: relative;z-index: 1;}#sk-container-id-3 div.sk-parallel {display: flex;align-items: stretch;justify-content: center;background-color: white;position: relative;}#sk-container-id-3 div.sk-item::before, #sk-container-id-3 div.sk-parallel-item::before {content: \"\";position: absolute;border-left: 1px solid gray;box-sizing: border-box;top: 0;bottom: 0;left: 50%;z-index: -1;}#sk-container-id-3 div.sk-parallel-item {display: flex;flex-direction: column;z-index: 1;position: relative;background-color: white;}#sk-container-id-3 div.sk-parallel-item:first-child::after {align-self: flex-end;width: 50%;}#sk-container-id-3 div.sk-parallel-item:last-child::after {align-self: flex-start;width: 50%;}#sk-container-id-3 div.sk-parallel-item:only-child::after {width: 0;}#sk-container-id-3 div.sk-dashed-wrapped {border: 1px dashed gray;margin: 0 0.4em 0.5em 0.4em;box-sizing: border-box;padding-bottom: 0.4em;background-color: white;}#sk-container-id-3 div.sk-label label {font-family: monospace;font-weight: bold;display: inline-block;line-height: 1.2em;}#sk-container-id-3 div.sk-label-container {text-align: center;}#sk-container-id-3 div.sk-container {/* jupyter's `normalize.less` sets `[hidden] { display: none; }` but bootstrap.min.css set `[hidden] { display: none !important; }` so we also need the `!important` here to be able to override the default hidden behavior on the sphinx rendered scikit-learn.org. See: https://github.com/scikit-learn/scikit-learn/issues/21755 */display: inline-block !important;position: relative;}#sk-container-id-3 div.sk-text-repr-fallback {display: none;}</style><div id=\"sk-container-id-3\" class=\"sk-top-container\"><div class=\"sk-text-repr-fallback\"><pre>RandomForestRegressor()</pre><b>In a Jupyter environment, please rerun this cell to show the HTML representation or trust the notebook. <br />On GitHub, the HTML representation is unable to render, please try loading this page with nbviewer.org.</b></div><div class=\"sk-container\" hidden><div class=\"sk-item\"><div class=\"sk-estimator sk-toggleable\"><input class=\"sk-toggleable__control sk-hidden--visually\" id=\"sk-estimator-id-3\" type=\"checkbox\" checked><label for=\"sk-estimator-id-3\" class=\"sk-toggleable__label sk-toggleable__label-arrow\">RandomForestRegressor</label><div class=\"sk-toggleable__content\"><pre>RandomForestRegressor()</pre></div></div></div></div></div>"
      ],
      "text/plain": [
       "RandomForestRegressor()"
      ]
     },
     "execution_count": 56,
     "metadata": {},
     "output_type": "execute_result"
    }
   ],
   "source": [
    "from sklearn.ensemble import RandomForestRegressor\n",
    "rfr=RandomForestRegressor()\n",
    "rfr.fit(x_train,y_train)"
   ]
  },
  {
   "cell_type": "code",
   "execution_count": 57,
   "id": "05e18c89",
   "metadata": {},
   "outputs": [
    {
     "data": {
      "text/plain": [
       "array([177233.33333333, 164900.        ,  40000.        ,  39150.        ,\n",
       "        99750.        , 169500.        ,  94450.        , 169466.66666667,\n",
       "       150450.        , 152000.        ,  85000.        ,  50775.        ,\n",
       "        95500.        , 152000.        ,  59863.33333333, 177233.33333333,\n",
       "       169466.66666667, 169500.        , 177233.33333333, 157500.        ,\n",
       "       157500.        ,  36100.        , 170500.        , 160200.        ,\n",
       "       138350.        ,  93750.        ,  69183.33333333])"
      ]
     },
     "execution_count": 57,
     "metadata": {},
     "output_type": "execute_result"
    }
   ],
   "source": [
    "y_pred_rfr=rfr.predict(x_test)\n",
    "y_pred_rfr"
   ]
  },
  {
   "cell_type": "code",
   "execution_count": 58,
   "id": "1d0188e7",
   "metadata": {},
   "outputs": [
    {
     "name": "stdout",
     "output_type": "stream",
     "text": [
      "---------Random-Forest-Regression--Model-evaluation----------\n",
      "mean absolute error(MAE): 6273.888888888883\n",
      "mean squared error(MSE): 158363708.744856\n",
      "root mean squared error(RMSE): 12584.264330697126\n"
     ]
    }
   ],
   "source": [
    "print(\"---------Random-Forest-Regression--Model-evaluation----------\")\n",
    "print(\"mean absolute error(MAE):\",mae(y_test,y_pred_rfr))\n",
    "print(\"mean squared error(MSE):\",mse(y_test,y_pred_rfr))\n",
    "print(\"root mean squared error(RMSE):\",np.sqrt(mse(y_test,y_pred_rfr)))"
   ]
  },
  {
   "cell_type": "code",
   "execution_count": 59,
   "id": "d11dd879",
   "metadata": {},
   "outputs": [
    {
     "name": "stdout",
     "output_type": "stream",
     "text": [
      "accuracy of rfr on training set: 0.9962463894126605\n",
      "accuracy of rfr on test set: 0.9355727754478487\n"
     ]
    }
   ],
   "source": [
    "print(\"accuracy of rfr on training set:\",rfr.score(x_train,y_train))\n",
    "print(\"accuracy of rfr on test set:\",rfr.score(x_test,y_test))"
   ]
  },
  {
   "cell_type": "markdown",
   "id": "1edaf8c6",
   "metadata": {},
   "source": [
    "# SVM"
   ]
  },
  {
   "cell_type": "code",
   "execution_count": 60,
   "id": "eb665ebc",
   "metadata": {},
   "outputs": [
    {
     "data": {
      "text/html": [
       "<style>#sk-container-id-4 {color: black;}#sk-container-id-4 pre{padding: 0;}#sk-container-id-4 div.sk-toggleable {background-color: white;}#sk-container-id-4 label.sk-toggleable__label {cursor: pointer;display: block;width: 100%;margin-bottom: 0;padding: 0.3em;box-sizing: border-box;text-align: center;}#sk-container-id-4 label.sk-toggleable__label-arrow:before {content: \"▸\";float: left;margin-right: 0.25em;color: #696969;}#sk-container-id-4 label.sk-toggleable__label-arrow:hover:before {color: black;}#sk-container-id-4 div.sk-estimator:hover label.sk-toggleable__label-arrow:before {color: black;}#sk-container-id-4 div.sk-toggleable__content {max-height: 0;max-width: 0;overflow: hidden;text-align: left;background-color: #f0f8ff;}#sk-container-id-4 div.sk-toggleable__content pre {margin: 0.2em;color: black;border-radius: 0.25em;background-color: #f0f8ff;}#sk-container-id-4 input.sk-toggleable__control:checked~div.sk-toggleable__content {max-height: 200px;max-width: 100%;overflow: auto;}#sk-container-id-4 input.sk-toggleable__control:checked~label.sk-toggleable__label-arrow:before {content: \"▾\";}#sk-container-id-4 div.sk-estimator input.sk-toggleable__control:checked~label.sk-toggleable__label {background-color: #d4ebff;}#sk-container-id-4 div.sk-label input.sk-toggleable__control:checked~label.sk-toggleable__label {background-color: #d4ebff;}#sk-container-id-4 input.sk-hidden--visually {border: 0;clip: rect(1px 1px 1px 1px);clip: rect(1px, 1px, 1px, 1px);height: 1px;margin: -1px;overflow: hidden;padding: 0;position: absolute;width: 1px;}#sk-container-id-4 div.sk-estimator {font-family: monospace;background-color: #f0f8ff;border: 1px dotted black;border-radius: 0.25em;box-sizing: border-box;margin-bottom: 0.5em;}#sk-container-id-4 div.sk-estimator:hover {background-color: #d4ebff;}#sk-container-id-4 div.sk-parallel-item::after {content: \"\";width: 100%;border-bottom: 1px solid gray;flex-grow: 1;}#sk-container-id-4 div.sk-label:hover label.sk-toggleable__label {background-color: #d4ebff;}#sk-container-id-4 div.sk-serial::before {content: \"\";position: absolute;border-left: 1px solid gray;box-sizing: border-box;top: 0;bottom: 0;left: 50%;z-index: 0;}#sk-container-id-4 div.sk-serial {display: flex;flex-direction: column;align-items: center;background-color: white;padding-right: 0.2em;padding-left: 0.2em;position: relative;}#sk-container-id-4 div.sk-item {position: relative;z-index: 1;}#sk-container-id-4 div.sk-parallel {display: flex;align-items: stretch;justify-content: center;background-color: white;position: relative;}#sk-container-id-4 div.sk-item::before, #sk-container-id-4 div.sk-parallel-item::before {content: \"\";position: absolute;border-left: 1px solid gray;box-sizing: border-box;top: 0;bottom: 0;left: 50%;z-index: -1;}#sk-container-id-4 div.sk-parallel-item {display: flex;flex-direction: column;z-index: 1;position: relative;background-color: white;}#sk-container-id-4 div.sk-parallel-item:first-child::after {align-self: flex-end;width: 50%;}#sk-container-id-4 div.sk-parallel-item:last-child::after {align-self: flex-start;width: 50%;}#sk-container-id-4 div.sk-parallel-item:only-child::after {width: 0;}#sk-container-id-4 div.sk-dashed-wrapped {border: 1px dashed gray;margin: 0 0.4em 0.5em 0.4em;box-sizing: border-box;padding-bottom: 0.4em;background-color: white;}#sk-container-id-4 div.sk-label label {font-family: monospace;font-weight: bold;display: inline-block;line-height: 1.2em;}#sk-container-id-4 div.sk-label-container {text-align: center;}#sk-container-id-4 div.sk-container {/* jupyter's `normalize.less` sets `[hidden] { display: none; }` but bootstrap.min.css set `[hidden] { display: none !important; }` so we also need the `!important` here to be able to override the default hidden behavior on the sphinx rendered scikit-learn.org. See: https://github.com/scikit-learn/scikit-learn/issues/21755 */display: inline-block !important;position: relative;}#sk-container-id-4 div.sk-text-repr-fallback {display: none;}</style><div id=\"sk-container-id-4\" class=\"sk-top-container\"><div class=\"sk-text-repr-fallback\"><pre>SVR()</pre><b>In a Jupyter environment, please rerun this cell to show the HTML representation or trust the notebook. <br />On GitHub, the HTML representation is unable to render, please try loading this page with nbviewer.org.</b></div><div class=\"sk-container\" hidden><div class=\"sk-item\"><div class=\"sk-estimator sk-toggleable\"><input class=\"sk-toggleable__control sk-hidden--visually\" id=\"sk-estimator-id-4\" type=\"checkbox\" checked><label for=\"sk-estimator-id-4\" class=\"sk-toggleable__label sk-toggleable__label-arrow\">SVR</label><div class=\"sk-toggleable__content\"><pre>SVR()</pre></div></div></div></div></div>"
      ],
      "text/plain": [
       "SVR()"
      ]
     },
     "execution_count": 60,
     "metadata": {},
     "output_type": "execute_result"
    }
   ],
   "source": [
    "from sklearn.svm import SVR\n",
    "svr=SVR()\n",
    "svr.fit(x_train,y_train)"
   ]
  },
  {
   "cell_type": "code",
   "execution_count": 61,
   "id": "c7b3fd31",
   "metadata": {},
   "outputs": [
    {
     "data": {
      "text/plain": [
       "array([95028.25397574, 95022.63839529, 94989.11021192, 94989.12094846,\n",
       "       95003.00721674, 95027.15353374, 95000.00377939, 95027.8935119 ,\n",
       "       95017.7836148 , 95020.54337216, 94999.88314176, 94989.95156438,\n",
       "       95002.73765956, 95020.54337216, 94991.18627449, 95028.25397574,\n",
       "       95027.8935119 , 95027.15353374, 95028.25397574, 95022.72457928,\n",
       "       95022.72457928, 94988.85051817, 95027.89260791, 95026.0615417 ,\n",
       "       95015.14493242, 94999.99622089, 94995.24173409])"
      ]
     },
     "execution_count": 61,
     "metadata": {},
     "output_type": "execute_result"
    }
   ],
   "source": [
    "y_pred_svr=svr.predict(x_test)\n",
    "y_pred_svr"
   ]
  },
  {
   "cell_type": "code",
   "execution_count": 62,
   "id": "aa7ec89e",
   "metadata": {},
   "outputs": [
    {
     "name": "stdout",
     "output_type": "stream",
     "text": [
      "---------SVM--Model-evaluation----------\n",
      "mean absolute error(MAE): 48501.95216649876\n",
      "mean squared error(MSE): 3290417898.7259364\n",
      "root mean squared error(RMSE): 57362.16434833972\n"
     ]
    }
   ],
   "source": [
    "print(\"---------SVM--Model-evaluation----------\")\n",
    "print(\"mean absolute error(MAE):\",mae(y_test,y_pred_svr))\n",
    "print(\"mean squared error(MSE):\",mse(y_test,y_pred_svr))\n",
    "print(\"root mean squared error(RMSE):\",np.sqrt(mse(y_test,y_pred_svr)))"
   ]
  },
  {
   "cell_type": "code",
   "execution_count": 63,
   "id": "16e5961f",
   "metadata": {},
   "outputs": [
    {
     "name": "stdout",
     "output_type": "stream",
     "text": [
      "accuracy of svm on training set: -0.030195581577795894\n",
      "accuracy of svm on test set: -0.3386431431280805\n"
     ]
    }
   ],
   "source": [
    "print(\"accuracy of svm on training set:\",svr.score(x_train,y_train))\n",
    "print(\"accuracy of svm on test set:\",svr.score(x_test,y_test))"
   ]
  },
  {
   "cell_type": "code",
   "execution_count": 64,
   "id": "86d37e4b",
   "metadata": {},
   "outputs": [
    {
     "name": "stdout",
     "output_type": "stream",
     "text": [
      "<class 'pandas.core.frame.DataFrame'>\n",
      "Int64Index: 87 entries, 47 to 374\n",
      "Data columns (total 13 columns):\n",
      " #   Column                                           Non-Null Count  Dtype  \n",
      "---  ------                                           --------------  -----  \n",
      " 0   Education Level                                  87 non-null     int64  \n",
      " 1   Years of Experience                              87 non-null     float64\n",
      " 2   Salary                                           87 non-null     float64\n",
      " 3   Job Title_Director of Marketing                  87 non-null     int32  \n",
      " 4   Job Title_Director of Operations                 87 non-null     int32  \n",
      " 5   Job Title_Junior Business Analyst                87 non-null     int32  \n",
      " 6   Job Title_Junior Business Development Associate  87 non-null     int32  \n",
      " 7   Job Title_Junior Financial Analyst               87 non-null     int32  \n",
      " 8   Job Title_Junior Marketing Coordinator           87 non-null     int32  \n",
      " 9   Job Title_Senior Business Analyst                87 non-null     int32  \n",
      " 10  Job Title_Senior Data Scientist                  87 non-null     int32  \n",
      " 11  Job Title_Senior Marketing Analyst               87 non-null     int32  \n",
      " 12  Job Title_Senior Marketing Manager               87 non-null     int32  \n",
      "dtypes: float64(2), int32(10), int64(1)\n",
      "memory usage: 6.1 KB\n"
     ]
    }
   ],
   "source": [
    "encoded_df.info()"
   ]
  },
  {
   "cell_type": "code",
   "execution_count": 65,
   "id": "06452a2e",
   "metadata": {},
   "outputs": [],
   "source": [
    "def predict_Salary(Education_Level=0,Years_of_Experience=0,Job_Title='Director of Marketing' ):\n",
    "    temp_array=list()\n",
    "    if Job_Title=='Director of Marketing':\n",
    "        temp_array= temp_array+[1,0,0,0,0,0,0,0,0,0]\n",
    "    elif Job_Title=='Director of Operations':\n",
    "        temp_array= temp_array+[0,1,0,0,0,0,0,0,0,0]\n",
    "    elif Job_Title=='Junior Business Analyst':\n",
    "        temp_array= temp_array+[0,0,1,0,0,0,0,0,0,0]\n",
    "    elif Job_Title=='Junior Business Development Associate':\n",
    "        temp_array= temp_array+[0,0,0,1,0,0,0,0,0,0]\n",
    "    elif Job_Title=='Financial Analyst':\n",
    "        temp_array= temp_array+[0,0,0,0,1,0,0,0,0,0]\n",
    "    elif Job_Title=='Marketing Coordinator':\n",
    "        temp_array= temp_array+[0,0,0,0,0,1,0,0,0,0]\n",
    "    elif Job_Title=='Senior Business Analyst':\n",
    "        temp_array= temp_array+[0,0,0,0,0,0,1,0,0,0]\n",
    "    elif Job_Title=='Senior Data Scientist':\n",
    "        temp_array= temp_array+[0,0,0,0,0,0,0,1,0,0]\n",
    "    elif Job_Title=='Senior Marketing Analyst':\n",
    "        temp_array= temp_array+[0,0,0,0,0,0,0,0,1,0]\n",
    "    elif Job_Title=='Senior Marketing Manager':\n",
    "        temp_array= temp_array+[0,0,0,0,0,0,0,0,0,1]\n",
    "    temp_array=[Education_Level,Years_of_Experience]+temp_array\n",
    "    temp_array=np.array([temp_array])\n",
    "    print(temp_array)\n",
    "    return int(dtr.predict(temp_array))"
   ]
  },
  {
   "cell_type": "markdown",
   "id": "a25f523b",
   "metadata": {},
   "source": [
    "# Prediction 1"
   ]
  },
  {
   "cell_type": "code",
   "execution_count": 66,
   "id": "1476e733",
   "metadata": {},
   "outputs": [
    {
     "name": "stdout",
     "output_type": "stream",
     "text": [
      "Enter the Education Level:2\n",
      "Enter the Years of Experience:25\n",
      "Enter the Job Title:Director of Marketing\n",
      "[[ 2 25  1  0  0  0  0  0  0  0  0  0]]\n"
     ]
    },
    {
     "name": "stderr",
     "output_type": "stream",
     "text": [
      "C:\\Users\\Lenovo\\anaconda3\\Lib\\site-packages\\sklearn\\base.py:464: UserWarning: X does not have valid feature names, but DecisionTreeRegressor was fitted with feature names\n",
      "  warnings.warn(\n"
     ]
    },
    {
     "data": {
      "text/plain": [
       "180000"
      ]
     },
     "execution_count": 66,
     "metadata": {},
     "output_type": "execute_result"
    }
   ],
   "source": [
    "a=int(input('Enter the Education Level:'))\n",
    "b=int(input('Enter the Years of Experience:'))\n",
    "c=input('Enter the Job Title:')\n",
    "Salary=predict_Salary(Education_Level=a,Years_of_Experience=b,Job_Title=c)\n",
    "Salary"
   ]
  },
  {
   "cell_type": "code",
   "execution_count": 67,
   "id": "a6d21a36",
   "metadata": {},
   "outputs": [
    {
     "name": "stdout",
     "output_type": "stream",
     "text": [
      "[[ 2 25  1  0  0  0  0  0  0  0  0  0]]\n"
     ]
    },
    {
     "name": "stderr",
     "output_type": "stream",
     "text": [
      "C:\\Users\\Lenovo\\anaconda3\\Lib\\site-packages\\sklearn\\base.py:464: UserWarning: X does not have valid feature names, but DecisionTreeRegressor was fitted with feature names\n",
      "  warnings.warn(\n"
     ]
    },
    {
     "data": {
      "text/plain": [
       "180000"
      ]
     },
     "execution_count": 67,
     "metadata": {},
     "output_type": "execute_result"
    }
   ],
   "source": [
    "Salary=predict_Salary(Education_Level=2,Years_of_Experience=25,Job_Title='Director of Marketing')\n",
    "Salary"
   ]
  },
  {
   "cell_type": "markdown",
   "id": "375a4e43",
   "metadata": {},
   "source": [
    "# Prediction 2"
   ]
  },
  {
   "cell_type": "code",
   "execution_count": 68,
   "id": "f6ccf6c6",
   "metadata": {},
   "outputs": [
    {
     "name": "stdout",
     "output_type": "stream",
     "text": [
      "Enter the Education Level:0\n",
      "Enter the Years of Experience:5\n",
      "Enter the Job Title:Senior Marketing Manager\n",
      "[[0 5 0 0 0 0 0 0 0 0 0 1]]\n"
     ]
    },
    {
     "name": "stderr",
     "output_type": "stream",
     "text": [
      "C:\\Users\\Lenovo\\anaconda3\\Lib\\site-packages\\sklearn\\base.py:464: UserWarning: X does not have valid feature names, but DecisionTreeRegressor was fitted with feature names\n",
      "  warnings.warn(\n"
     ]
    },
    {
     "data": {
      "text/plain": [
       "60000"
      ]
     },
     "execution_count": 68,
     "metadata": {},
     "output_type": "execute_result"
    }
   ],
   "source": [
    "a=int(input('Enter the Education Level:'))\n",
    "b=int(input('Enter the Years of Experience:'))\n",
    "c=input('Enter the Job Title:')\n",
    "Salary=predict_Salary(Education_Level=a,Years_of_Experience=b,Job_Title=c)\n",
    "Salary"
   ]
  },
  {
   "cell_type": "code",
   "execution_count": 69,
   "id": "78e0d25a",
   "metadata": {},
   "outputs": [
    {
     "name": "stdout",
     "output_type": "stream",
     "text": [
      "[[0 5 0 0 0 0 0 0 0 0 0 1]]\n"
     ]
    },
    {
     "name": "stderr",
     "output_type": "stream",
     "text": [
      "C:\\Users\\Lenovo\\anaconda3\\Lib\\site-packages\\sklearn\\base.py:464: UserWarning: X does not have valid feature names, but DecisionTreeRegressor was fitted with feature names\n",
      "  warnings.warn(\n"
     ]
    },
    {
     "data": {
      "text/plain": [
       "60000"
      ]
     },
     "execution_count": 69,
     "metadata": {},
     "output_type": "execute_result"
    }
   ],
   "source": [
    "Salary=predict_Salary(Education_Level=0,Years_of_Experience=5,Job_Title='Senior Marketing Manager')\n",
    "Salary"
   ]
  },
  {
   "cell_type": "markdown",
   "id": "edefdea7",
   "metadata": {},
   "source": [
    "# Prediction 3"
   ]
  },
  {
   "cell_type": "code",
   "execution_count": 70,
   "id": "613a07fe",
   "metadata": {},
   "outputs": [
    {
     "name": "stdout",
     "output_type": "stream",
     "text": [
      "Enter the Education Level:0\n",
      "Enter the Years of Experience:9\n",
      "Enter the Job Title:Financial Analyst\n",
      "[[0 9 0 0 0 0 1 0 0 0 0 0]]\n"
     ]
    },
    {
     "name": "stderr",
     "output_type": "stream",
     "text": [
      "C:\\Users\\Lenovo\\anaconda3\\Lib\\site-packages\\sklearn\\base.py:464: UserWarning: X does not have valid feature names, but DecisionTreeRegressor was fitted with feature names\n",
      "  warnings.warn(\n"
     ]
    },
    {
     "data": {
      "text/plain": [
       "105000"
      ]
     },
     "execution_count": 70,
     "metadata": {},
     "output_type": "execute_result"
    }
   ],
   "source": [
    "a=int(input('Enter the Education Level:'))\n",
    "b=int(input('Enter the Years of Experience:'))\n",
    "c=input('Enter the Job Title:')\n",
    "Salary=predict_Salary(Education_Level=a,Years_of_Experience=b,Job_Title=c)\n",
    "Salary"
   ]
  },
  {
   "cell_type": "code",
   "execution_count": 71,
   "id": "72fb401e",
   "metadata": {},
   "outputs": [
    {
     "name": "stdout",
     "output_type": "stream",
     "text": [
      "[[0 9 0 0 0 0 1 0 0 0 0 0]]\n"
     ]
    },
    {
     "name": "stderr",
     "output_type": "stream",
     "text": [
      "C:\\Users\\Lenovo\\anaconda3\\Lib\\site-packages\\sklearn\\base.py:464: UserWarning: X does not have valid feature names, but DecisionTreeRegressor was fitted with feature names\n",
      "  warnings.warn(\n"
     ]
    },
    {
     "data": {
      "text/plain": [
       "105000"
      ]
     },
     "execution_count": 71,
     "metadata": {},
     "output_type": "execute_result"
    }
   ],
   "source": [
    "Salary=predict_Salary(Education_Level=0,Years_of_Experience=9,Job_Title='Financial Analyst')\n",
    "Salary"
   ]
  },
  {
   "cell_type": "markdown",
   "id": "ccece25c",
   "metadata": {},
   "source": [
    "# Prediction 4"
   ]
  },
  {
   "cell_type": "code",
   "execution_count": 72,
   "id": "81502e3b",
   "metadata": {},
   "outputs": [
    {
     "name": "stdout",
     "output_type": "stream",
     "text": [
      "Enter the Education Level:1\n",
      "Enter the Years of Experience:9\n",
      "Enter the Job Title:Junior Business Development Associate\n",
      "[[1 9 0 0 0 1 0 0 0 0 0 0]]\n"
     ]
    },
    {
     "name": "stderr",
     "output_type": "stream",
     "text": [
      "C:\\Users\\Lenovo\\anaconda3\\Lib\\site-packages\\sklearn\\base.py:464: UserWarning: X does not have valid feature names, but DecisionTreeRegressor was fitted with feature names\n",
      "  warnings.warn(\n"
     ]
    },
    {
     "data": {
      "text/plain": [
       "105000"
      ]
     },
     "execution_count": 72,
     "metadata": {},
     "output_type": "execute_result"
    }
   ],
   "source": [
    "a=int(input('Enter the Education Level:'))\n",
    "b=int(input('Enter the Years of Experience:'))\n",
    "c=input('Enter the Job Title:')\n",
    "Salary=predict_Salary(Education_Level=a,Years_of_Experience=b,Job_Title=c)\n",
    "Salary"
   ]
  },
  {
   "cell_type": "code",
   "execution_count": 73,
   "id": "3142ad9e",
   "metadata": {},
   "outputs": [
    {
     "name": "stdout",
     "output_type": "stream",
     "text": [
      "[[1 9 0 0 0 1 0 0 0 0 0 0]]\n"
     ]
    },
    {
     "name": "stderr",
     "output_type": "stream",
     "text": [
      "C:\\Users\\Lenovo\\anaconda3\\Lib\\site-packages\\sklearn\\base.py:464: UserWarning: X does not have valid feature names, but DecisionTreeRegressor was fitted with feature names\n",
      "  warnings.warn(\n"
     ]
    },
    {
     "data": {
      "text/plain": [
       "105000"
      ]
     },
     "execution_count": 73,
     "metadata": {},
     "output_type": "execute_result"
    }
   ],
   "source": [
    "Salary=predict_Salary(Education_Level=1,Years_of_Experience=9,Job_Title='Junior Business Development Associate')\n",
    "Salary"
   ]
  },
  {
   "cell_type": "markdown",
   "id": "2b7364ab",
   "metadata": {},
   "source": [
    "# Prediction 5"
   ]
  },
  {
   "cell_type": "code",
   "execution_count": 74,
   "id": "37672d02",
   "metadata": {},
   "outputs": [
    {
     "name": "stdout",
     "output_type": "stream",
     "text": [
      "Enter the Education Level:2\n",
      "Enter the Years of Experience:5\n",
      "Enter the Job Title:Senior Data Scientist\n",
      "[[2 5 0 0 0 0 0 0 0 1 0 0]]\n"
     ]
    },
    {
     "name": "stderr",
     "output_type": "stream",
     "text": [
      "C:\\Users\\Lenovo\\anaconda3\\Lib\\site-packages\\sklearn\\base.py:464: UserWarning: X does not have valid feature names, but DecisionTreeRegressor was fitted with feature names\n",
      "  warnings.warn(\n"
     ]
    },
    {
     "data": {
      "text/plain": [
       "60000"
      ]
     },
     "execution_count": 74,
     "metadata": {},
     "output_type": "execute_result"
    }
   ],
   "source": [
    "a=int(input('Enter the Education Level:'))\n",
    "b=int(input('Enter the Years of Experience:'))\n",
    "c=input('Enter the Job Title:')\n",
    "Salary=predict_Salary(Education_Level=a,Years_of_Experience=b,Job_Title=c)\n",
    "Salary"
   ]
  },
  {
   "cell_type": "code",
   "execution_count": 75,
   "id": "ed0ff819",
   "metadata": {},
   "outputs": [
    {
     "name": "stdout",
     "output_type": "stream",
     "text": [
      "[[2 5 0 0 0 0 0 0 0 1 0 0]]\n"
     ]
    },
    {
     "name": "stderr",
     "output_type": "stream",
     "text": [
      "C:\\Users\\Lenovo\\anaconda3\\Lib\\site-packages\\sklearn\\base.py:464: UserWarning: X does not have valid feature names, but DecisionTreeRegressor was fitted with feature names\n",
      "  warnings.warn(\n"
     ]
    },
    {
     "data": {
      "text/plain": [
       "60000"
      ]
     },
     "execution_count": 75,
     "metadata": {},
     "output_type": "execute_result"
    }
   ],
   "source": [
    "Salary=predict_Salary(Education_Level=2,Years_of_Experience=5,Job_Title='Senior Data Scientist')\n",
    "Salary"
   ]
  },
  {
   "cell_type": "code",
   "execution_count": null,
   "id": "6f7abda4",
   "metadata": {},
   "outputs": [],
   "source": []
  }
 ],
 "metadata": {
  "kernelspec": {
   "display_name": "Python 3 (ipykernel)",
   "language": "python",
   "name": "python3"
  },
  "language_info": {
   "codemirror_mode": {
    "name": "ipython",
    "version": 3
   },
   "file_extension": ".py",
   "mimetype": "text/x-python",
   "name": "python",
   "nbconvert_exporter": "python",
   "pygments_lexer": "ipython3",
   "version": "3.11.4"
  }
 },
 "nbformat": 4,
 "nbformat_minor": 5
}
